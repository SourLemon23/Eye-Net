{
  "nbformat": 4,
  "nbformat_minor": 0,
  "metadata": {
    "colab": {
      "name": "Cropping.ipynb",
      "provenance": [],
      "collapsed_sections": [],
      "include_colab_link": true
    },
    "kernelspec": {
      "name": "python3",
      "display_name": "Python 3"
    },
    "language_info": {
      "name": "python"
    }
  },
  "cells": [
    {
      "cell_type": "markdown",
      "metadata": {
        "id": "view-in-github",
        "colab_type": "text"
      },
      "source": [
        "<a href=\"https://colab.research.google.com/github/SourLemon23/Eye-Net/blob/main/Cropping.ipynb\" target=\"_parent\"><img src=\"https://colab.research.google.com/assets/colab-badge.svg\" alt=\"Open In Colab\"/></a>"
      ]
    },
    {
      "cell_type": "code",
      "metadata": {
        "colab": {
          "base_uri": "https://localhost:8080/"
        },
        "id": "tkOTW5rdpSf-",
        "outputId": "777a2d15-1b6d-41b0-8e59-b066e47f3322"
      },
      "source": [
        "import tensorflow as tf\n",
        "try:\n",
        "    %tensorflow_version 2.x\n",
        "except:\n",
        "    pass\n",
        "\n",
        "print('Using TensorFlow Version:', tf.__version__)\n",
        "\n",
        "import tensorflow.keras.backend as K\n",
        "from tensorflow import GradientTape\n",
        "\n",
        "from tensorflow.image import resize\n",
        "from tensorflow.keras import Input\n",
        "from tensorflow.keras.models import Model\n",
        "from tensorflow.keras.models import load_model\n",
        "from tensorflow.keras.preprocessing.image import ImageDataGenerator\n",
        "from tensorflow.keras.layers import GlobalAveragePooling2D, Flatten, Dense\n",
        "from tensorflow.keras.optimizers import Adam\n",
        "from tensorflow.keras.metrics import Precision, Recall\n",
        "from tensorflow.keras.callbacks import ModelCheckpoint, EarlyStopping, TensorBoard\n",
        "\n",
        "from sklearn.metrics import confusion_matrix, ConfusionMatrixDisplay, classification_report\n",
        "from sklearn.metrics import roc_curve, roc_auc_score, precision_recall_curve, average_precision_score, PrecisionRecallDisplay\n",
        "\n",
        "import os\n",
        "from pathlib import Path\n",
        "import csv\n",
        "import nibabel as nib\n",
        "import datetime\n",
        "\n",
        "import numpy as np\n",
        "import matplotlib.pyplot as plt\n",
        "import cv2\n",
        "\n",
        "! pip install -U efficientnet\n",
        "from efficientnet.tfkeras import EfficientNetB7"
      ],
      "execution_count": null,
      "outputs": [
        {
          "output_type": "stream",
          "text": [
            "Using TensorFlow Version: 2.5.0\n",
            "Collecting efficientnet\n",
            "  Downloading https://files.pythonhosted.org/packages/53/97/84f88e581d6ac86dcf1ab347c497c4c568c38784e3a2bd659b96912ab793/efficientnet-1.1.1-py3-none-any.whl\n",
            "Collecting keras-applications<=1.0.8,>=1.0.7\n",
            "\u001b[?25l  Downloading https://files.pythonhosted.org/packages/71/e3/19762fdfc62877ae9102edf6342d71b28fbfd9dea3d2f96a882ce099b03f/Keras_Applications-1.0.8-py3-none-any.whl (50kB)\n",
            "\u001b[K     |████████████████████████████████| 51kB 4.0MB/s \n",
            "\u001b[?25hRequirement already satisfied, skipping upgrade: scikit-image in /usr/local/lib/python3.7/dist-packages (from efficientnet) (0.16.2)\n",
            "Requirement already satisfied, skipping upgrade: numpy>=1.9.1 in /usr/local/lib/python3.7/dist-packages (from keras-applications<=1.0.8,>=1.0.7->efficientnet) (1.19.5)\n",
            "Requirement already satisfied, skipping upgrade: h5py in /usr/local/lib/python3.7/dist-packages (from keras-applications<=1.0.8,>=1.0.7->efficientnet) (3.1.0)\n",
            "Requirement already satisfied, skipping upgrade: matplotlib!=3.0.0,>=2.0.0 in /usr/local/lib/python3.7/dist-packages (from scikit-image->efficientnet) (3.2.2)\n",
            "Requirement already satisfied, skipping upgrade: imageio>=2.3.0 in /usr/local/lib/python3.7/dist-packages (from scikit-image->efficientnet) (2.4.1)\n",
            "Requirement already satisfied, skipping upgrade: PyWavelets>=0.4.0 in /usr/local/lib/python3.7/dist-packages (from scikit-image->efficientnet) (1.1.1)\n",
            "Requirement already satisfied, skipping upgrade: pillow>=4.3.0 in /usr/local/lib/python3.7/dist-packages (from scikit-image->efficientnet) (7.1.2)\n",
            "Requirement already satisfied, skipping upgrade: networkx>=2.0 in /usr/local/lib/python3.7/dist-packages (from scikit-image->efficientnet) (2.5.1)\n",
            "Requirement already satisfied, skipping upgrade: scipy>=0.19.0 in /usr/local/lib/python3.7/dist-packages (from scikit-image->efficientnet) (1.4.1)\n",
            "Requirement already satisfied, skipping upgrade: cached-property; python_version < \"3.8\" in /usr/local/lib/python3.7/dist-packages (from h5py->keras-applications<=1.0.8,>=1.0.7->efficientnet) (1.5.2)\n",
            "Requirement already satisfied, skipping upgrade: kiwisolver>=1.0.1 in /usr/local/lib/python3.7/dist-packages (from matplotlib!=3.0.0,>=2.0.0->scikit-image->efficientnet) (1.3.1)\n",
            "Requirement already satisfied, skipping upgrade: cycler>=0.10 in /usr/local/lib/python3.7/dist-packages (from matplotlib!=3.0.0,>=2.0.0->scikit-image->efficientnet) (0.10.0)\n",
            "Requirement already satisfied, skipping upgrade: pyparsing!=2.0.4,!=2.1.2,!=2.1.6,>=2.0.1 in /usr/local/lib/python3.7/dist-packages (from matplotlib!=3.0.0,>=2.0.0->scikit-image->efficientnet) (2.4.7)\n",
            "Requirement already satisfied, skipping upgrade: python-dateutil>=2.1 in /usr/local/lib/python3.7/dist-packages (from matplotlib!=3.0.0,>=2.0.0->scikit-image->efficientnet) (2.8.1)\n",
            "Requirement already satisfied, skipping upgrade: decorator<5,>=4.3 in /usr/local/lib/python3.7/dist-packages (from networkx>=2.0->scikit-image->efficientnet) (4.4.2)\n",
            "Requirement already satisfied, skipping upgrade: six in /usr/local/lib/python3.7/dist-packages (from cycler>=0.10->matplotlib!=3.0.0,>=2.0.0->scikit-image->efficientnet) (1.15.0)\n",
            "Installing collected packages: keras-applications, efficientnet\n",
            "Successfully installed efficientnet-1.1.1 keras-applications-1.0.8\n"
          ],
          "name": "stdout"
        }
      ]
    },
    {
      "cell_type": "code",
      "metadata": {
        "colab": {
          "base_uri": "https://localhost:8080/"
        },
        "id": "y_aBF9b_pU_1",
        "outputId": "6b510759-1bd1-4059-ffd8-d1eb0fd7801c"
      },
      "source": [
        "# Authorize access to mount Google Drive\n",
        "from google.colab import drive\n",
        "drive.mount('/content/drive')"
      ],
      "execution_count": null,
      "outputs": [
        {
          "output_type": "stream",
          "text": [
            "Mounted at /content/drive\n"
          ],
          "name": "stdout"
        }
      ]
    },
    {
      "cell_type": "code",
      "metadata": {
        "id": "k1uXFfofpAkV"
      },
      "source": [
        "def load_data(dir):\n",
        "    img_paths = []\n",
        "\n",
        "    for root, dirs, files in os.walk(dir):\n",
        "        for filename in files:\n",
        "            abs_path = os.path.abspath(os.path.join(root, filename))\n",
        "            img_paths.append(abs_path)\n",
        "\n",
        "    return img_paths"
      ],
      "execution_count": null,
      "outputs": []
    },
    {
      "cell_type": "code",
      "metadata": {
        "id": "uxEgMFFdpMU7"
      },
      "source": [
        "def process_data(file_paths, plot=False):\n",
        "    processed_imgs = []\n",
        "\n",
        "    for img_path in file_paths:\n",
        "      img = cv2.imread(img_path)\n",
        "      cropped_img = crop_to_eye(img, plot)\n",
        "      processed_imgs.append(cropped_img)\n",
        "\n",
        "    return processed_imgs"
      ],
      "execution_count": null,
      "outputs": []
    },
    {
      "cell_type": "code",
      "metadata": {
        "id": "9JhcxKCXo9c0"
      },
      "source": [
        "def write_imgs(img_paths, processed_imgs, new_dir):\n",
        "    for i, img_path in enumerate(img_paths):\n",
        "        path_after_dir = r'/'.join(Path(img_path).parts[8:])\n",
        "        final_img_path = Path(os.path.join(new_dir, path_after_dir))\n",
        "        final_img_dir = final_img_path.parent\n",
        "\n",
        "        # print('path_after_dir', path_after_dir)\n",
        "        # print('final_img_path', final_img_path)\n",
        "        # print('final_img_dir', final_img_dir)\n",
        "        # print('---------')\n",
        "\n",
        "        # This shouldn't ever run since we are not making any subfolders\n",
        "        if os.path.isdir(str(final_img_dir)) == False:\n",
        "            os.makedirs(final_img_dir)\n",
        "            print('New directory made:', final_img_dir)\n",
        "\n",
        "        cv2.imwrite(str(final_img_path), processed_imgs[i])"
      ],
      "execution_count": null,
      "outputs": []
    },
    {
      "cell_type": "code",
      "metadata": {
        "id": "sScddrVtoFeI"
      },
      "source": [
        "def crop_to_eye(image, plot=False):\n",
        "    img = image\n",
        "    img2 = image.copy()\n",
        "\n",
        "    grayscale_img = cv2.cvtColor(img2, cv2.COLOR_BGR2GRAY)\n",
        "    binary_img = cv2.threshold(grayscale_img, 0, 255, cv2.THRESH_BINARY + cv2.THRESH_OTSU)[1]\n",
        "\n",
        "    contours, hierarchy = cv2.findContours(binary_img, cv2.RETR_TREE, cv2.CHAIN_APPROX_SIMPLE)\n",
        "    areas = [cv2.contourArea(contour) for contour in contours]\n",
        "\n",
        "    max_index = np.argmax(areas)\n",
        "    contour = contours[max_index]\n",
        "    cv2.drawContours(img2, contours, -1, (0, 255, 0), 3)\n",
        "\n",
        "    x, y, w, h = cv2.boundingRect(contour)\n",
        "    xmin = x\n",
        "    xmax = x + w\n",
        "    ymin = y\n",
        "    ymax = y + h\n",
        "    cv2.rectangle(img2, (xmin, ymin), (xmax, ymax), (0, 255, 0), 2)\n",
        "\n",
        "    cropped_img = img[ymin:ymax, xmin:xmax]\n",
        "\n",
        "    if plot:\n",
        "        fig, axs = plt.subplots(nrows=1, ncols=4, figsize=(24, 4), constrained_layout=True)\n",
        "        \n",
        "        for i, img_filter in enumerate(['Grayscale', 'Binary', 'Contoured', 'Cropped']):\n",
        "            axs[i].set_title(img_filter)\n",
        "\n",
        "        axs[0].imshow(grayscale_img)\n",
        "        axs[1].imshow(binary_img)\n",
        "        axs[2].imshow(img2)\n",
        "        axs[3].imshow(cropped_img)\n",
        "\n",
        "        plt.show()\n",
        "\n",
        "    return cropped_img"
      ],
      "execution_count": null,
      "outputs": []
    },
    {
      "cell_type": "code",
      "metadata": {
        "colab": {
          "base_uri": "https://localhost:8080/"
        },
        "id": "3F5IDq7BpPEV",
        "outputId": "311c94c2-26b4-4aa1-d1b2-7e22b5b28466"
      },
      "source": [
        "# Crop images within a directory\n",
        "dir = r'/content/drive/MyDrive/Colab Notebooks/Diabetic Retinopathy/APTOS_Dataset/Images'\n",
        "new_dir = r'/content/drive/MyDrive/Colab Notebooks/Diabetic Retinopathy/cropped_APTOS_Dataset'\n",
        "\n",
        "img_paths = load_data(dir)[3000:]\n",
        "print('# img paths:', len(img_paths))\n",
        "print(img_paths)"
      ],
      "execution_count": null,
      "outputs": [
        {
          "output_type": "stream",
          "text": [
            "# img paths: 418\n",
            "['/content/drive/MyDrive/Colab Notebooks/Diabetic Retinopathy/APTOS_Dataset/Images/687759336b0d.png', '/content/drive/MyDrive/Colab Notebooks/Diabetic Retinopathy/APTOS_Dataset/Images/686ed1dbae20.png', '/content/drive/MyDrive/Colab Notebooks/Diabetic Retinopathy/APTOS_Dataset/Images/6a2c3f4ef329.png', '/content/drive/MyDrive/Colab Notebooks/Diabetic Retinopathy/APTOS_Dataset/Images/69f43381317b.png', '/content/drive/MyDrive/Colab Notebooks/Diabetic Retinopathy/APTOS_Dataset/Images/697538183db5.png', '/content/drive/MyDrive/Colab Notebooks/Diabetic Retinopathy/APTOS_Dataset/Images/69df7ade0575.png', '/content/drive/MyDrive/Colab Notebooks/Diabetic Retinopathy/APTOS_Dataset/Images/6b00cb764237.png', '/content/drive/MyDrive/Colab Notebooks/Diabetic Retinopathy/APTOS_Dataset/Images/6b30767595d8.png', '/content/drive/MyDrive/Colab Notebooks/Diabetic Retinopathy/APTOS_Dataset/Images/6b7cf869622a.png', '/content/drive/MyDrive/Colab Notebooks/Diabetic Retinopathy/APTOS_Dataset/Images/6b91e99c9408.png', '/content/drive/MyDrive/Colab Notebooks/Diabetic Retinopathy/APTOS_Dataset/Images/6c2555a9cae4.png', '/content/drive/MyDrive/Colab Notebooks/Diabetic Retinopathy/APTOS_Dataset/Images/6c3589d7ed8d.png', '/content/drive/MyDrive/Colab Notebooks/Diabetic Retinopathy/APTOS_Dataset/Images/6bf26b777e3a.png', '/content/drive/MyDrive/Colab Notebooks/Diabetic Retinopathy/APTOS_Dataset/Images/6bcce181be65.png', '/content/drive/MyDrive/Colab Notebooks/Diabetic Retinopathy/APTOS_Dataset/Images/6cd606dc52e9.png', '/content/drive/MyDrive/Colab Notebooks/Diabetic Retinopathy/APTOS_Dataset/Images/6c6505a0c637.png', '/content/drive/MyDrive/Colab Notebooks/Diabetic Retinopathy/APTOS_Dataset/Images/6d292ca4c9ad.png', '/content/drive/MyDrive/Colab Notebooks/Diabetic Retinopathy/APTOS_Dataset/Images/6de39b94f634.png', '/content/drive/MyDrive/Colab Notebooks/Diabetic Retinopathy/APTOS_Dataset/Images/6df8b7b6e837.png', '/content/drive/MyDrive/Colab Notebooks/Diabetic Retinopathy/APTOS_Dataset/Images/6d9effbcde78.png', '/content/drive/MyDrive/Colab Notebooks/Diabetic Retinopathy/APTOS_Dataset/Images/6d7d26025122.png', '/content/drive/MyDrive/Colab Notebooks/Diabetic Retinopathy/APTOS_Dataset/Images/6dcde47060f9.png', '/content/drive/MyDrive/Colab Notebooks/Diabetic Retinopathy/APTOS_Dataset/Images/6e1db8711879.png', '/content/drive/MyDrive/Colab Notebooks/Diabetic Retinopathy/APTOS_Dataset/Images/6dfd80748e72.png', '/content/drive/MyDrive/Colab Notebooks/Diabetic Retinopathy/APTOS_Dataset/Images/6e0f78e188ff.png', '/content/drive/MyDrive/Colab Notebooks/Diabetic Retinopathy/APTOS_Dataset/Images/6f4719c6bb4b.png', '/content/drive/MyDrive/Colab Notebooks/Diabetic Retinopathy/APTOS_Dataset/Images/6e73acb2cf60.png', '/content/drive/MyDrive/Colab Notebooks/Diabetic Retinopathy/APTOS_Dataset/Images/6e92b1c5ac8e.png', '/content/drive/MyDrive/Colab Notebooks/Diabetic Retinopathy/APTOS_Dataset/Images/6efa36d59ada.png', '/content/drive/MyDrive/Colab Notebooks/Diabetic Retinopathy/APTOS_Dataset/Images/6f0463c1ff18.png', '/content/drive/MyDrive/Colab Notebooks/Diabetic Retinopathy/APTOS_Dataset/Images/6fe67fd7f5d1.png', '/content/drive/MyDrive/Colab Notebooks/Diabetic Retinopathy/APTOS_Dataset/Images/7005be54cab1.png', '/content/drive/MyDrive/Colab Notebooks/Diabetic Retinopathy/APTOS_Dataset/Images/705f508d1e42.png', '/content/drive/MyDrive/Colab Notebooks/Diabetic Retinopathy/APTOS_Dataset/Images/6f4e0538d1e4.png', '/content/drive/MyDrive/Colab Notebooks/Diabetic Retinopathy/APTOS_Dataset/Images/6fb656d506b2.png', '/content/drive/MyDrive/Colab Notebooks/Diabetic Retinopathy/APTOS_Dataset/Images/702de9dcde32.png', '/content/drive/MyDrive/Colab Notebooks/Diabetic Retinopathy/APTOS_Dataset/Images/71c1a3cdbe47.png', '/content/drive/MyDrive/Colab Notebooks/Diabetic Retinopathy/APTOS_Dataset/Images/711d1480d2e3.png', '/content/drive/MyDrive/Colab Notebooks/Diabetic Retinopathy/APTOS_Dataset/Images/71a39c660432.png', '/content/drive/MyDrive/Colab Notebooks/Diabetic Retinopathy/APTOS_Dataset/Images/7269a1d84a57.png', '/content/drive/MyDrive/Colab Notebooks/Diabetic Retinopathy/APTOS_Dataset/Images/71e4130bf5c8.png', '/content/drive/MyDrive/Colab Notebooks/Diabetic Retinopathy/APTOS_Dataset/Images/7347f5133a6a.png', '/content/drive/MyDrive/Colab Notebooks/Diabetic Retinopathy/APTOS_Dataset/Images/7427dedafccf.png', '/content/drive/MyDrive/Colab Notebooks/Diabetic Retinopathy/APTOS_Dataset/Images/73e83a07a16d.png', '/content/drive/MyDrive/Colab Notebooks/Diabetic Retinopathy/APTOS_Dataset/Images/73ef3c3dcbe4.png', '/content/drive/MyDrive/Colab Notebooks/Diabetic Retinopathy/APTOS_Dataset/Images/73881f55a3ec.png', '/content/drive/MyDrive/Colab Notebooks/Diabetic Retinopathy/APTOS_Dataset/Images/74418f620068.png', '/content/drive/MyDrive/Colab Notebooks/Diabetic Retinopathy/APTOS_Dataset/Images/74eee788edee.png', '/content/drive/MyDrive/Colab Notebooks/Diabetic Retinopathy/APTOS_Dataset/Images/74898f372d2b.png', '/content/drive/MyDrive/Colab Notebooks/Diabetic Retinopathy/APTOS_Dataset/Images/7435e9a3e36e.png', '/content/drive/MyDrive/Colab Notebooks/Diabetic Retinopathy/APTOS_Dataset/Images/750e0168399d.png', '/content/drive/MyDrive/Colab Notebooks/Diabetic Retinopathy/APTOS_Dataset/Images/7525ebb3434d.png', '/content/drive/MyDrive/Colab Notebooks/Diabetic Retinopathy/APTOS_Dataset/Images/757e39293591.png', '/content/drive/MyDrive/Colab Notebooks/Diabetic Retinopathy/APTOS_Dataset/Images/753b14c27c83.png', '/content/drive/MyDrive/Colab Notebooks/Diabetic Retinopathy/APTOS_Dataset/Images/756b0d6488bb.png', '/content/drive/MyDrive/Colab Notebooks/Diabetic Retinopathy/APTOS_Dataset/Images/75a4343b12f9.png', '/content/drive/MyDrive/Colab Notebooks/Diabetic Retinopathy/APTOS_Dataset/Images/76cb010f7aa0.png', '/content/drive/MyDrive/Colab Notebooks/Diabetic Retinopathy/APTOS_Dataset/Images/7663aba8d762.png', '/content/drive/MyDrive/Colab Notebooks/Diabetic Retinopathy/APTOS_Dataset/Images/76c0c7e1b6cb.png', '/content/drive/MyDrive/Colab Notebooks/Diabetic Retinopathy/APTOS_Dataset/Images/76bc31e0d3be.png', '/content/drive/MyDrive/Colab Notebooks/Diabetic Retinopathy/APTOS_Dataset/Images/760b6f4c6d82.png', '/content/drive/MyDrive/Colab Notebooks/Diabetic Retinopathy/APTOS_Dataset/Images/76f3473df8a6.png', '/content/drive/MyDrive/Colab Notebooks/Diabetic Retinopathy/APTOS_Dataset/Images/76df141d966b.png', '/content/drive/MyDrive/Colab Notebooks/Diabetic Retinopathy/APTOS_Dataset/Images/7743f4e04a6d.png', '/content/drive/MyDrive/Colab Notebooks/Diabetic Retinopathy/APTOS_Dataset/Images/76e589911303.png', '/content/drive/MyDrive/Colab Notebooks/Diabetic Retinopathy/APTOS_Dataset/Images/76cfe8967f7d.png', '/content/drive/MyDrive/Colab Notebooks/Diabetic Retinopathy/APTOS_Dataset/Images/772af553b8b7.png', '/content/drive/MyDrive/Colab Notebooks/Diabetic Retinopathy/APTOS_Dataset/Images/77e15f213b04.png', '/content/drive/MyDrive/Colab Notebooks/Diabetic Retinopathy/APTOS_Dataset/Images/78a577c3e0bf.png', '/content/drive/MyDrive/Colab Notebooks/Diabetic Retinopathy/APTOS_Dataset/Images/789434d095d1.png', '/content/drive/MyDrive/Colab Notebooks/Diabetic Retinopathy/APTOS_Dataset/Images/788ddb0b70b7.png', '/content/drive/MyDrive/Colab Notebooks/Diabetic Retinopathy/APTOS_Dataset/Images/78bcdffb8785.png', '/content/drive/MyDrive/Colab Notebooks/Diabetic Retinopathy/APTOS_Dataset/Images/79059d0592c4.png', '/content/drive/MyDrive/Colab Notebooks/Diabetic Retinopathy/APTOS_Dataset/Images/79ade634c633.png', '/content/drive/MyDrive/Colab Notebooks/Diabetic Retinopathy/APTOS_Dataset/Images/78b3f819dcc5.png', '/content/drive/MyDrive/Colab Notebooks/Diabetic Retinopathy/APTOS_Dataset/Images/7a3ea1779b13.png', '/content/drive/MyDrive/Colab Notebooks/Diabetic Retinopathy/APTOS_Dataset/Images/7a6495a39d87.png', '/content/drive/MyDrive/Colab Notebooks/Diabetic Retinopathy/APTOS_Dataset/Images/7a39c91416e2.png', '/content/drive/MyDrive/Colab Notebooks/Diabetic Retinopathy/APTOS_Dataset/Images/7a0cff4c24b2.png', '/content/drive/MyDrive/Colab Notebooks/Diabetic Retinopathy/APTOS_Dataset/Images/7b211d8bd249.png', '/content/drive/MyDrive/Colab Notebooks/Diabetic Retinopathy/APTOS_Dataset/Images/7ad0c4975890.png', '/content/drive/MyDrive/Colab Notebooks/Diabetic Retinopathy/APTOS_Dataset/Images/7b49041cbf17.png', '/content/drive/MyDrive/Colab Notebooks/Diabetic Retinopathy/APTOS_Dataset/Images/7c3747c0b2c3.png', '/content/drive/MyDrive/Colab Notebooks/Diabetic Retinopathy/APTOS_Dataset/Images/7c2f820a6425.png', '/content/drive/MyDrive/Colab Notebooks/Diabetic Retinopathy/APTOS_Dataset/Images/7c52fe73e748.png', '/content/drive/MyDrive/Colab Notebooks/Diabetic Retinopathy/APTOS_Dataset/Images/7c629b491d1a.png', '/content/drive/MyDrive/Colab Notebooks/Diabetic Retinopathy/APTOS_Dataset/Images/7d37a2939f12.png', '/content/drive/MyDrive/Colab Notebooks/Diabetic Retinopathy/APTOS_Dataset/Images/7d626a7ffe76.png', '/content/drive/MyDrive/Colab Notebooks/Diabetic Retinopathy/APTOS_Dataset/Images/7e0598cc88a0.png', '/content/drive/MyDrive/Colab Notebooks/Diabetic Retinopathy/APTOS_Dataset/Images/7d48f8cdfb69.png', '/content/drive/MyDrive/Colab Notebooks/Diabetic Retinopathy/APTOS_Dataset/Images/7e70344b0c25.png', '/content/drive/MyDrive/Colab Notebooks/Diabetic Retinopathy/APTOS_Dataset/Images/7e5a76c4e103.png', '/content/drive/MyDrive/Colab Notebooks/Diabetic Retinopathy/APTOS_Dataset/Images/7e4019ac7f5a.png', '/content/drive/MyDrive/Colab Notebooks/Diabetic Retinopathy/APTOS_Dataset/Images/7e9458de5707.png', '/content/drive/MyDrive/Colab Notebooks/Diabetic Retinopathy/APTOS_Dataset/Images/7f84284598f5.png', '/content/drive/MyDrive/Colab Notebooks/Diabetic Retinopathy/APTOS_Dataset/Images/7ed4128b2a4e.png', '/content/drive/MyDrive/Colab Notebooks/Diabetic Retinopathy/APTOS_Dataset/Images/7eee3d1f1268.png', '/content/drive/MyDrive/Colab Notebooks/Diabetic Retinopathy/APTOS_Dataset/Images/7f39c36469b5.png', '/content/drive/MyDrive/Colab Notebooks/Diabetic Retinopathy/APTOS_Dataset/Images/7f60f2a083d3.png', '/content/drive/MyDrive/Colab Notebooks/Diabetic Retinopathy/APTOS_Dataset/Images/7fe7309d0b4f.png', '/content/drive/MyDrive/Colab Notebooks/Diabetic Retinopathy/APTOS_Dataset/Images/8000a6b97a84.png', '/content/drive/MyDrive/Colab Notebooks/Diabetic Retinopathy/APTOS_Dataset/Images/80d24897669f.png', '/content/drive/MyDrive/Colab Notebooks/Diabetic Retinopathy/APTOS_Dataset/Images/80e7cc0a0649.png', '/content/drive/MyDrive/Colab Notebooks/Diabetic Retinopathy/APTOS_Dataset/Images/80ca40196225.png', '/content/drive/MyDrive/Colab Notebooks/Diabetic Retinopathy/APTOS_Dataset/Images/81704925f759.png', '/content/drive/MyDrive/Colab Notebooks/Diabetic Retinopathy/APTOS_Dataset/Images/810ed108f5b7.png', '/content/drive/MyDrive/Colab Notebooks/Diabetic Retinopathy/APTOS_Dataset/Images/8191ae701985.png', '/content/drive/MyDrive/Colab Notebooks/Diabetic Retinopathy/APTOS_Dataset/Images/812d5adafaf2.png', '/content/drive/MyDrive/Colab Notebooks/Diabetic Retinopathy/APTOS_Dataset/Images/80feb1f7ca5e.png', '/content/drive/MyDrive/Colab Notebooks/Diabetic Retinopathy/APTOS_Dataset/Images/81b0a2651c45.png', '/content/drive/MyDrive/Colab Notebooks/Diabetic Retinopathy/APTOS_Dataset/Images/82910bba4753.png', '/content/drive/MyDrive/Colab Notebooks/Diabetic Retinopathy/APTOS_Dataset/Images/8241e43408a8.png', '/content/drive/MyDrive/Colab Notebooks/Diabetic Retinopathy/APTOS_Dataset/Images/82f2784ead76.png', '/content/drive/MyDrive/Colab Notebooks/Diabetic Retinopathy/APTOS_Dataset/Images/82deb07a6618.png', '/content/drive/MyDrive/Colab Notebooks/Diabetic Retinopathy/APTOS_Dataset/Images/82d364726a58.png', '/content/drive/MyDrive/Colab Notebooks/Diabetic Retinopathy/APTOS_Dataset/Images/838c87c63422.png', '/content/drive/MyDrive/Colab Notebooks/Diabetic Retinopathy/APTOS_Dataset/Images/838b3e4d0bb4.png', '/content/drive/MyDrive/Colab Notebooks/Diabetic Retinopathy/APTOS_Dataset/Images/83fda7c0500b.png', '/content/drive/MyDrive/Colab Notebooks/Diabetic Retinopathy/APTOS_Dataset/Images/8448af27ba07.png', '/content/drive/MyDrive/Colab Notebooks/Diabetic Retinopathy/APTOS_Dataset/Images/8433a032b96c.png', '/content/drive/MyDrive/Colab Notebooks/Diabetic Retinopathy/APTOS_Dataset/Images/8543a801dce0.png', '/content/drive/MyDrive/Colab Notebooks/Diabetic Retinopathy/APTOS_Dataset/Images/8676427e4625.png', '/content/drive/MyDrive/Colab Notebooks/Diabetic Retinopathy/APTOS_Dataset/Images/85f99e7e4052.png', '/content/drive/MyDrive/Colab Notebooks/Diabetic Retinopathy/APTOS_Dataset/Images/86e7f98f73f1.png', '/content/drive/MyDrive/Colab Notebooks/Diabetic Retinopathy/APTOS_Dataset/Images/86baef833ae0.png', '/content/drive/MyDrive/Colab Notebooks/Diabetic Retinopathy/APTOS_Dataset/Images/86fbac86ed3e.png', '/content/drive/MyDrive/Colab Notebooks/Diabetic Retinopathy/APTOS_Dataset/Images/869bbd3170cc.png', '/content/drive/MyDrive/Colab Notebooks/Diabetic Retinopathy/APTOS_Dataset/Images/873dcc0b468f.png', '/content/drive/MyDrive/Colab Notebooks/Diabetic Retinopathy/APTOS_Dataset/Images/86d6808f0609.png', '/content/drive/MyDrive/Colab Notebooks/Diabetic Retinopathy/APTOS_Dataset/Images/873fe0404d6e.png', '/content/drive/MyDrive/Colab Notebooks/Diabetic Retinopathy/APTOS_Dataset/Images/876deb29f000.png', '/content/drive/MyDrive/Colab Notebooks/Diabetic Retinopathy/APTOS_Dataset/Images/879744b9dc65.png', '/content/drive/MyDrive/Colab Notebooks/Diabetic Retinopathy/APTOS_Dataset/Images/87d46b1cc4e9.png', '/content/drive/MyDrive/Colab Notebooks/Diabetic Retinopathy/APTOS_Dataset/Images/87b1938994b5.png', '/content/drive/MyDrive/Colab Notebooks/Diabetic Retinopathy/APTOS_Dataset/Images/878e356c8fc9.png', '/content/drive/MyDrive/Colab Notebooks/Diabetic Retinopathy/APTOS_Dataset/Images/8860c7b11530.png', '/content/drive/MyDrive/Colab Notebooks/Diabetic Retinopathy/APTOS_Dataset/Images/88e5051f65bd.png', '/content/drive/MyDrive/Colab Notebooks/Diabetic Retinopathy/APTOS_Dataset/Images/8906c9ed54a2.png', '/content/drive/MyDrive/Colab Notebooks/Diabetic Retinopathy/APTOS_Dataset/Images/8871e6a26596.png', '/content/drive/MyDrive/Colab Notebooks/Diabetic Retinopathy/APTOS_Dataset/Images/895fe2bfc5b6.png', '/content/drive/MyDrive/Colab Notebooks/Diabetic Retinopathy/APTOS_Dataset/Images/898f0bc8acfa.png', '/content/drive/MyDrive/Colab Notebooks/Diabetic Retinopathy/APTOS_Dataset/Images/89d2a7403a06.png', '/content/drive/MyDrive/Colab Notebooks/Diabetic Retinopathy/APTOS_Dataset/Images/8958a4d17b7e.png', '/content/drive/MyDrive/Colab Notebooks/Diabetic Retinopathy/APTOS_Dataset/Images/89b725411cee.png', '/content/drive/MyDrive/Colab Notebooks/Diabetic Retinopathy/APTOS_Dataset/Images/8a234d68b27e.png', '/content/drive/MyDrive/Colab Notebooks/Diabetic Retinopathy/APTOS_Dataset/Images/8a67f1efa315.png', '/content/drive/MyDrive/Colab Notebooks/Diabetic Retinopathy/APTOS_Dataset/Images/8a01daa423f7.png', '/content/drive/MyDrive/Colab Notebooks/Diabetic Retinopathy/APTOS_Dataset/Images/8acffaf1f4b9.png', '/content/drive/MyDrive/Colab Notebooks/Diabetic Retinopathy/APTOS_Dataset/Images/8ae049175db6.png', '/content/drive/MyDrive/Colab Notebooks/Diabetic Retinopathy/APTOS_Dataset/Images/8ac0c44bbf24.png', '/content/drive/MyDrive/Colab Notebooks/Diabetic Retinopathy/APTOS_Dataset/Images/8ab3faa3701f.png', '/content/drive/MyDrive/Colab Notebooks/Diabetic Retinopathy/APTOS_Dataset/Images/8b76c3c5cb3e.png', '/content/drive/MyDrive/Colab Notebooks/Diabetic Retinopathy/APTOS_Dataset/Images/8b26d3cd61e8.png', '/content/drive/MyDrive/Colab Notebooks/Diabetic Retinopathy/APTOS_Dataset/Images/8c4ceddeb1c6.png', '/content/drive/MyDrive/Colab Notebooks/Diabetic Retinopathy/APTOS_Dataset/Images/8bf05909e1e1.png', '/content/drive/MyDrive/Colab Notebooks/Diabetic Retinopathy/APTOS_Dataset/Images/8bed09514c3b.png', '/content/drive/MyDrive/Colab Notebooks/Diabetic Retinopathy/APTOS_Dataset/Images/8cb6b5b2f19c.png', '/content/drive/MyDrive/Colab Notebooks/Diabetic Retinopathy/APTOS_Dataset/Images/8d7bb0649a02.png', '/content/drive/MyDrive/Colab Notebooks/Diabetic Retinopathy/APTOS_Dataset/Images/8d62ba9cb22a.png', '/content/drive/MyDrive/Colab Notebooks/Diabetic Retinopathy/APTOS_Dataset/Images/8dba09a4e5ed.png', '/content/drive/MyDrive/Colab Notebooks/Diabetic Retinopathy/APTOS_Dataset/Images/8e6df9eedcd8.png', '/content/drive/MyDrive/Colab Notebooks/Diabetic Retinopathy/APTOS_Dataset/Images/8e63fc4ab532.png', '/content/drive/MyDrive/Colab Notebooks/Diabetic Retinopathy/APTOS_Dataset/Images/8e4a354e3da2.png', '/content/drive/MyDrive/Colab Notebooks/Diabetic Retinopathy/APTOS_Dataset/Images/8eeac97f02f0.png', '/content/drive/MyDrive/Colab Notebooks/Diabetic Retinopathy/APTOS_Dataset/Images/8fd7ad26e691.png', '/content/drive/MyDrive/Colab Notebooks/Diabetic Retinopathy/APTOS_Dataset/Images/8fc09fecd22f.png', '/content/drive/MyDrive/Colab Notebooks/Diabetic Retinopathy/APTOS_Dataset/Images/8ff863f8874f.png', '/content/drive/MyDrive/Colab Notebooks/Diabetic Retinopathy/APTOS_Dataset/Images/9041eb43456e.png', '/content/drive/MyDrive/Colab Notebooks/Diabetic Retinopathy/APTOS_Dataset/Images/901a3552fe26.png', '/content/drive/MyDrive/Colab Notebooks/Diabetic Retinopathy/APTOS_Dataset/Images/9095d43fb132.png', '/content/drive/MyDrive/Colab Notebooks/Diabetic Retinopathy/APTOS_Dataset/Images/906d02fb822d.png', '/content/drive/MyDrive/Colab Notebooks/Diabetic Retinopathy/APTOS_Dataset/Images/905cc86bf100.png', '/content/drive/MyDrive/Colab Notebooks/Diabetic Retinopathy/APTOS_Dataset/Images/913b1890ed1e.png', '/content/drive/MyDrive/Colab Notebooks/Diabetic Retinopathy/APTOS_Dataset/Images/91b6ebaa3678.png', '/content/drive/MyDrive/Colab Notebooks/Diabetic Retinopathy/APTOS_Dataset/Images/91cf56d3d1af.png', '/content/drive/MyDrive/Colab Notebooks/Diabetic Retinopathy/APTOS_Dataset/Images/91e2c2890c9f.png', '/content/drive/MyDrive/Colab Notebooks/Diabetic Retinopathy/APTOS_Dataset/Images/921433215353.png', '/content/drive/MyDrive/Colab Notebooks/Diabetic Retinopathy/APTOS_Dataset/Images/92587e494d51.png', '/content/drive/MyDrive/Colab Notebooks/Diabetic Retinopathy/APTOS_Dataset/Images/92d8a7c8e718.png', '/content/drive/MyDrive/Colab Notebooks/Diabetic Retinopathy/APTOS_Dataset/Images/930fee99213a.png', '/content/drive/MyDrive/Colab Notebooks/Diabetic Retinopathy/APTOS_Dataset/Images/937bc1b924b1.png', '/content/drive/MyDrive/Colab Notebooks/Diabetic Retinopathy/APTOS_Dataset/Images/932181b93b2f.png', '/content/drive/MyDrive/Colab Notebooks/Diabetic Retinopathy/APTOS_Dataset/Images/94ef1d14597f.png', '/content/drive/MyDrive/Colab Notebooks/Diabetic Retinopathy/APTOS_Dataset/Images/94b1d8ad35ec.png', '/content/drive/MyDrive/Colab Notebooks/Diabetic Retinopathy/APTOS_Dataset/Images/962c0fc85e13.png', '/content/drive/MyDrive/Colab Notebooks/Diabetic Retinopathy/APTOS_Dataset/Images/95e732e043a1.png', '/content/drive/MyDrive/Colab Notebooks/Diabetic Retinopathy/APTOS_Dataset/Images/962cf85e4f6d.png', '/content/drive/MyDrive/Colab Notebooks/Diabetic Retinopathy/APTOS_Dataset/Images/966c07831334.png', '/content/drive/MyDrive/Colab Notebooks/Diabetic Retinopathy/APTOS_Dataset/Images/977e1ca77653.png', '/content/drive/MyDrive/Colab Notebooks/Diabetic Retinopathy/APTOS_Dataset/Images/97bf61736b86.png', '/content/drive/MyDrive/Colab Notebooks/Diabetic Retinopathy/APTOS_Dataset/Images/97da093947e8.png', '/content/drive/MyDrive/Colab Notebooks/Diabetic Retinopathy/APTOS_Dataset/Images/98104c8c67eb.png', '/content/drive/MyDrive/Colab Notebooks/Diabetic Retinopathy/APTOS_Dataset/Images/98f48850ebce.png', '/content/drive/MyDrive/Colab Notebooks/Diabetic Retinopathy/APTOS_Dataset/Images/98e8adcf085c.png', '/content/drive/MyDrive/Colab Notebooks/Diabetic Retinopathy/APTOS_Dataset/Images/98fbe56dcc2c.png', '/content/drive/MyDrive/Colab Notebooks/Diabetic Retinopathy/APTOS_Dataset/Images/99132193eaa0.png', '/content/drive/MyDrive/Colab Notebooks/Diabetic Retinopathy/APTOS_Dataset/Images/99ecdb41d5e7.png', '/content/drive/MyDrive/Colab Notebooks/Diabetic Retinopathy/APTOS_Dataset/Images/99e8bf998285.png', '/content/drive/MyDrive/Colab Notebooks/Diabetic Retinopathy/APTOS_Dataset/Images/9a3c03a5ad0f.png', '/content/drive/MyDrive/Colab Notebooks/Diabetic Retinopathy/APTOS_Dataset/Images/9a28d4e8aef0.png', '/content/drive/MyDrive/Colab Notebooks/Diabetic Retinopathy/APTOS_Dataset/Images/9a3109657ac1.png', '/content/drive/MyDrive/Colab Notebooks/Diabetic Retinopathy/APTOS_Dataset/Images/9a4f370d341b.png', '/content/drive/MyDrive/Colab Notebooks/Diabetic Retinopathy/APTOS_Dataset/Images/9a7bd084395e.png', '/content/drive/MyDrive/Colab Notebooks/Diabetic Retinopathy/APTOS_Dataset/Images/9a496b1e20f9.png', '/content/drive/MyDrive/Colab Notebooks/Diabetic Retinopathy/APTOS_Dataset/Images/9ad92f1c1542.png', '/content/drive/MyDrive/Colab Notebooks/Diabetic Retinopathy/APTOS_Dataset/Images/9a9b21215c55.png', '/content/drive/MyDrive/Colab Notebooks/Diabetic Retinopathy/APTOS_Dataset/Images/9b0eb9f41da4.png', '/content/drive/MyDrive/Colab Notebooks/Diabetic Retinopathy/APTOS_Dataset/Images/9b093fe95d6b.png', '/content/drive/MyDrive/Colab Notebooks/Diabetic Retinopathy/APTOS_Dataset/Images/9b418ce42c13.png', '/content/drive/MyDrive/Colab Notebooks/Diabetic Retinopathy/APTOS_Dataset/Images/9bafbbd152d2.png', '/content/drive/MyDrive/Colab Notebooks/Diabetic Retinopathy/APTOS_Dataset/Images/9ba469af2980.png', '/content/drive/MyDrive/Colab Notebooks/Diabetic Retinopathy/APTOS_Dataset/Images/9b7b6e4db1d5.png', '/content/drive/MyDrive/Colab Notebooks/Diabetic Retinopathy/APTOS_Dataset/Images/9bf060db8376.png', '/content/drive/MyDrive/Colab Notebooks/Diabetic Retinopathy/APTOS_Dataset/Images/9c14ce27cbfc.png', '/content/drive/MyDrive/Colab Notebooks/Diabetic Retinopathy/APTOS_Dataset/Images/9d62478042b6.png', '/content/drive/MyDrive/Colab Notebooks/Diabetic Retinopathy/APTOS_Dataset/Images/9cf7c1349673.png', '/content/drive/MyDrive/Colab Notebooks/Diabetic Retinopathy/APTOS_Dataset/Images/9d74428188bb.png', '/content/drive/MyDrive/Colab Notebooks/Diabetic Retinopathy/APTOS_Dataset/Images/9da74370835a.png', '/content/drive/MyDrive/Colab Notebooks/Diabetic Retinopathy/APTOS_Dataset/Images/9d9bfefa809c.png', '/content/drive/MyDrive/Colab Notebooks/Diabetic Retinopathy/APTOS_Dataset/Images/9df31421cdd2.png', '/content/drive/MyDrive/Colab Notebooks/Diabetic Retinopathy/APTOS_Dataset/Images/9e5737f771c3.png', '/content/drive/MyDrive/Colab Notebooks/Diabetic Retinopathy/APTOS_Dataset/Images/9e7a63b2fc6a.png', '/content/drive/MyDrive/Colab Notebooks/Diabetic Retinopathy/APTOS_Dataset/Images/9e3510963315.png', '/content/drive/MyDrive/Colab Notebooks/Diabetic Retinopathy/APTOS_Dataset/Images/9ed666e982cd.png', '/content/drive/MyDrive/Colab Notebooks/Diabetic Retinopathy/APTOS_Dataset/Images/9f4132bd6ed6.png', '/content/drive/MyDrive/Colab Notebooks/Diabetic Retinopathy/APTOS_Dataset/Images/9eaac43744f5.png', '/content/drive/MyDrive/Colab Notebooks/Diabetic Retinopathy/APTOS_Dataset/Images/9f37c98b8187.png', '/content/drive/MyDrive/Colab Notebooks/Diabetic Retinopathy/APTOS_Dataset/Images/9eaf735cf01f.png', '/content/drive/MyDrive/Colab Notebooks/Diabetic Retinopathy/APTOS_Dataset/Images/a015ce4f51ad.png', '/content/drive/MyDrive/Colab Notebooks/Diabetic Retinopathy/APTOS_Dataset/Images/9f5a8665cf2e.png', '/content/drive/MyDrive/Colab Notebooks/Diabetic Retinopathy/APTOS_Dataset/Images/a06e5ac695ce.png', '/content/drive/MyDrive/Colab Notebooks/Diabetic Retinopathy/APTOS_Dataset/Images/a07efb1ecfc0.png', '/content/drive/MyDrive/Colab Notebooks/Diabetic Retinopathy/APTOS_Dataset/Images/a04fb36db784.png', '/content/drive/MyDrive/Colab Notebooks/Diabetic Retinopathy/APTOS_Dataset/Images/a14bbd9a583e.png', '/content/drive/MyDrive/Colab Notebooks/Diabetic Retinopathy/APTOS_Dataset/Images/a125377fb985.png', '/content/drive/MyDrive/Colab Notebooks/Diabetic Retinopathy/APTOS_Dataset/Images/a12ca80bb8c7.png', '/content/drive/MyDrive/Colab Notebooks/Diabetic Retinopathy/APTOS_Dataset/Images/a188c60b93fb.png', '/content/drive/MyDrive/Colab Notebooks/Diabetic Retinopathy/APTOS_Dataset/Images/a1872f9c0cba.png', '/content/drive/MyDrive/Colab Notebooks/Diabetic Retinopathy/APTOS_Dataset/Images/a15652b22ab8.png', '/content/drive/MyDrive/Colab Notebooks/Diabetic Retinopathy/APTOS_Dataset/Images/a19507501b40.png', '/content/drive/MyDrive/Colab Notebooks/Diabetic Retinopathy/APTOS_Dataset/Images/a247961a5cd9.png', '/content/drive/MyDrive/Colab Notebooks/Diabetic Retinopathy/APTOS_Dataset/Images/a2696f444ecb.png', '/content/drive/MyDrive/Colab Notebooks/Diabetic Retinopathy/APTOS_Dataset/Images/a30a143a53a3.png', '/content/drive/MyDrive/Colab Notebooks/Diabetic Retinopathy/APTOS_Dataset/Images/a3132c8828e4.png', '/content/drive/MyDrive/Colab Notebooks/Diabetic Retinopathy/APTOS_Dataset/Images/a3475dc3ac80.png', '/content/drive/MyDrive/Colab Notebooks/Diabetic Retinopathy/APTOS_Dataset/Images/a3ad6c2db6f1.png', '/content/drive/MyDrive/Colab Notebooks/Diabetic Retinopathy/APTOS_Dataset/Images/a3bd2e034614.png', '/content/drive/MyDrive/Colab Notebooks/Diabetic Retinopathy/APTOS_Dataset/Images/a3fcf42ff56d.png', '/content/drive/MyDrive/Colab Notebooks/Diabetic Retinopathy/APTOS_Dataset/Images/a47878630dc2.png', '/content/drive/MyDrive/Colab Notebooks/Diabetic Retinopathy/APTOS_Dataset/Images/a476fd984005.png', '/content/drive/MyDrive/Colab Notebooks/Diabetic Retinopathy/APTOS_Dataset/Images/a4d4b69f7404.png', '/content/drive/MyDrive/Colab Notebooks/Diabetic Retinopathy/APTOS_Dataset/Images/a505981d1cab.png', '/content/drive/MyDrive/Colab Notebooks/Diabetic Retinopathy/APTOS_Dataset/Images/a4d41c495666.png', '/content/drive/MyDrive/Colab Notebooks/Diabetic Retinopathy/APTOS_Dataset/Images/a6356a3c5d11.png', '/content/drive/MyDrive/Colab Notebooks/Diabetic Retinopathy/APTOS_Dataset/Images/a62e995f167c.png', '/content/drive/MyDrive/Colab Notebooks/Diabetic Retinopathy/APTOS_Dataset/Images/a62ea0043aa7.png', '/content/drive/MyDrive/Colab Notebooks/Diabetic Retinopathy/APTOS_Dataset/Images/a64273801bde.png', '/content/drive/MyDrive/Colab Notebooks/Diabetic Retinopathy/APTOS_Dataset/Images/a5a2a7003d60.png', '/content/drive/MyDrive/Colab Notebooks/Diabetic Retinopathy/APTOS_Dataset/Images/a6d45de20e4d.png', '/content/drive/MyDrive/Colab Notebooks/Diabetic Retinopathy/APTOS_Dataset/Images/a66c3165876f.png', '/content/drive/MyDrive/Colab Notebooks/Diabetic Retinopathy/APTOS_Dataset/Images/a6b6d27c1b32.png', '/content/drive/MyDrive/Colab Notebooks/Diabetic Retinopathy/APTOS_Dataset/Images/a7673ac44509.png', '/content/drive/MyDrive/Colab Notebooks/Diabetic Retinopathy/APTOS_Dataset/Images/a721efb1e049.png', '/content/drive/MyDrive/Colab Notebooks/Diabetic Retinopathy/APTOS_Dataset/Images/a70d0f12a641.png', '/content/drive/MyDrive/Colab Notebooks/Diabetic Retinopathy/APTOS_Dataset/Images/a763661f98a5.png', '/content/drive/MyDrive/Colab Notebooks/Diabetic Retinopathy/APTOS_Dataset/Images/a7b0d0c51731.png', '/content/drive/MyDrive/Colab Notebooks/Diabetic Retinopathy/APTOS_Dataset/Images/a7b03e58a6e1.png', '/content/drive/MyDrive/Colab Notebooks/Diabetic Retinopathy/APTOS_Dataset/Images/a7b7dc8788b9.png', '/content/drive/MyDrive/Colab Notebooks/Diabetic Retinopathy/APTOS_Dataset/Images/a76b69e443ce.png', '/content/drive/MyDrive/Colab Notebooks/Diabetic Retinopathy/APTOS_Dataset/Images/a87f53bc984a.png', '/content/drive/MyDrive/Colab Notebooks/Diabetic Retinopathy/APTOS_Dataset/Images/a879c3569552.png', '/content/drive/MyDrive/Colab Notebooks/Diabetic Retinopathy/APTOS_Dataset/Images/a8652b2de23f.png', '/content/drive/MyDrive/Colab Notebooks/Diabetic Retinopathy/APTOS_Dataset/Images/a8c950a99107.png', '/content/drive/MyDrive/Colab Notebooks/Diabetic Retinopathy/APTOS_Dataset/Images/a8eb35b3bcd2.png', '/content/drive/MyDrive/Colab Notebooks/Diabetic Retinopathy/APTOS_Dataset/Images/a9c7b83caf81.png', '/content/drive/MyDrive/Colab Notebooks/Diabetic Retinopathy/APTOS_Dataset/Images/aa4407aab872.png', '/content/drive/MyDrive/Colab Notebooks/Diabetic Retinopathy/APTOS_Dataset/Images/aa31bc6b8f4d.png', '/content/drive/MyDrive/Colab Notebooks/Diabetic Retinopathy/APTOS_Dataset/Images/aa5ce75edcf5.png', '/content/drive/MyDrive/Colab Notebooks/Diabetic Retinopathy/APTOS_Dataset/Images/a9dc80cba9a4.png', '/content/drive/MyDrive/Colab Notebooks/Diabetic Retinopathy/APTOS_Dataset/Images/aa6242f9e08c.png', '/content/drive/MyDrive/Colab Notebooks/Diabetic Retinopathy/APTOS_Dataset/Images/aad0c0ee9268.png', '/content/drive/MyDrive/Colab Notebooks/Diabetic Retinopathy/APTOS_Dataset/Images/aafb0c944f14.png', '/content/drive/MyDrive/Colab Notebooks/Diabetic Retinopathy/APTOS_Dataset/Images/ab32db41c409.png', '/content/drive/MyDrive/Colab Notebooks/Diabetic Retinopathy/APTOS_Dataset/Images/ab50123abadb.png', '/content/drive/MyDrive/Colab Notebooks/Diabetic Retinopathy/APTOS_Dataset/Images/aba3063c5413.png', '/content/drive/MyDrive/Colab Notebooks/Diabetic Retinopathy/APTOS_Dataset/Images/ac720570dd0f.png', '/content/drive/MyDrive/Colab Notebooks/Diabetic Retinopathy/APTOS_Dataset/Images/abf09c44d5f4.png', '/content/drive/MyDrive/Colab Notebooks/Diabetic Retinopathy/APTOS_Dataset/Images/ac2c814949f9.png', '/content/drive/MyDrive/Colab Notebooks/Diabetic Retinopathy/APTOS_Dataset/Images/abdb365cacbc.png', '/content/drive/MyDrive/Colab Notebooks/Diabetic Retinopathy/APTOS_Dataset/Images/abf0f56c6f12.png', '/content/drive/MyDrive/Colab Notebooks/Diabetic Retinopathy/APTOS_Dataset/Images/ace2281f00c4.png', '/content/drive/MyDrive/Colab Notebooks/Diabetic Retinopathy/APTOS_Dataset/Images/acc9f29538c4.png', '/content/drive/MyDrive/Colab Notebooks/Diabetic Retinopathy/APTOS_Dataset/Images/aca88f566228.png', '/content/drive/MyDrive/Colab Notebooks/Diabetic Retinopathy/APTOS_Dataset/Images/ad1f7445b1a8.png', '/content/drive/MyDrive/Colab Notebooks/Diabetic Retinopathy/APTOS_Dataset/Images/ad570b850a4f.png', '/content/drive/MyDrive/Colab Notebooks/Diabetic Retinopathy/APTOS_Dataset/Images/ad12cde115ab.png', '/content/drive/MyDrive/Colab Notebooks/Diabetic Retinopathy/APTOS_Dataset/Images/ae61e19fb766.png', '/content/drive/MyDrive/Colab Notebooks/Diabetic Retinopathy/APTOS_Dataset/Images/ae1344610ebe.png', '/content/drive/MyDrive/Colab Notebooks/Diabetic Retinopathy/APTOS_Dataset/Images/ad944bd56bb6.png', '/content/drive/MyDrive/Colab Notebooks/Diabetic Retinopathy/APTOS_Dataset/Images/adb56cecafaf.png', '/content/drive/MyDrive/Colab Notebooks/Diabetic Retinopathy/APTOS_Dataset/Images/ae8472f8d310.png', '/content/drive/MyDrive/Colab Notebooks/Diabetic Retinopathy/APTOS_Dataset/Images/aeb6f4fd2eed.png', '/content/drive/MyDrive/Colab Notebooks/Diabetic Retinopathy/APTOS_Dataset/Images/aed4e743c230.png', '/content/drive/MyDrive/Colab Notebooks/Diabetic Retinopathy/APTOS_Dataset/Images/af87d48ffe01.png', '/content/drive/MyDrive/Colab Notebooks/Diabetic Retinopathy/APTOS_Dataset/Images/af8aa32beee4.png', '/content/drive/MyDrive/Colab Notebooks/Diabetic Retinopathy/APTOS_Dataset/Images/af828dab3ffc.png', '/content/drive/MyDrive/Colab Notebooks/Diabetic Retinopathy/APTOS_Dataset/Images/b07bc463b718.png', '/content/drive/MyDrive/Colab Notebooks/Diabetic Retinopathy/APTOS_Dataset/Images/b019a49787c1.png', '/content/drive/MyDrive/Colab Notebooks/Diabetic Retinopathy/APTOS_Dataset/Images/b06dabab4f09.png', '/content/drive/MyDrive/Colab Notebooks/Diabetic Retinopathy/APTOS_Dataset/Images/b0acd3593310.png', '/content/drive/MyDrive/Colab Notebooks/Diabetic Retinopathy/APTOS_Dataset/Images/b0cc9f8d06e4.png', '/content/drive/MyDrive/Colab Notebooks/Diabetic Retinopathy/APTOS_Dataset/Images/b0b3b16fc305.png', '/content/drive/MyDrive/Colab Notebooks/Diabetic Retinopathy/APTOS_Dataset/Images/b0f0fa677d5f.png', '/content/drive/MyDrive/Colab Notebooks/Diabetic Retinopathy/APTOS_Dataset/Images/b11dcdcbc8c8.png', '/content/drive/MyDrive/Colab Notebooks/Diabetic Retinopathy/APTOS_Dataset/Images/b22354b5f94b.png', '/content/drive/MyDrive/Colab Notebooks/Diabetic Retinopathy/APTOS_Dataset/Images/b1f4122fd36a.png', '/content/drive/MyDrive/Colab Notebooks/Diabetic Retinopathy/APTOS_Dataset/Images/b22cc1bf0b8a.png', '/content/drive/MyDrive/Colab Notebooks/Diabetic Retinopathy/APTOS_Dataset/Images/b1b3e7d0a5f3.png', '/content/drive/MyDrive/Colab Notebooks/Diabetic Retinopathy/APTOS_Dataset/Images/b17f0b81dab3.png', '/content/drive/MyDrive/Colab Notebooks/Diabetic Retinopathy/APTOS_Dataset/Images/b310bd564329.png', '/content/drive/MyDrive/Colab Notebooks/Diabetic Retinopathy/APTOS_Dataset/Images/b2748ac28fc1.png', '/content/drive/MyDrive/Colab Notebooks/Diabetic Retinopathy/APTOS_Dataset/Images/b37aae3c8fe1.png', '/content/drive/MyDrive/Colab Notebooks/Diabetic Retinopathy/APTOS_Dataset/Images/b3c0c3330278.png', '/content/drive/MyDrive/Colab Notebooks/Diabetic Retinopathy/APTOS_Dataset/Images/b3d12069e1c5.png', '/content/drive/MyDrive/Colab Notebooks/Diabetic Retinopathy/APTOS_Dataset/Images/b402b18d99a5.png', '/content/drive/MyDrive/Colab Notebooks/Diabetic Retinopathy/APTOS_Dataset/Images/b3d135bd3bb5.png', '/content/drive/MyDrive/Colab Notebooks/Diabetic Retinopathy/APTOS_Dataset/Images/b4e15102cd7a.png', '/content/drive/MyDrive/Colab Notebooks/Diabetic Retinopathy/APTOS_Dataset/Images/b49b2fac2514.png', '/content/drive/MyDrive/Colab Notebooks/Diabetic Retinopathy/APTOS_Dataset/Images/b50b30aa6e6c.png', '/content/drive/MyDrive/Colab Notebooks/Diabetic Retinopathy/APTOS_Dataset/Images/b56340f472d2.png', '/content/drive/MyDrive/Colab Notebooks/Diabetic Retinopathy/APTOS_Dataset/Images/b64e1eef3d63.png', '/content/drive/MyDrive/Colab Notebooks/Diabetic Retinopathy/APTOS_Dataset/Images/b5834ee64541.png', '/content/drive/MyDrive/Colab Notebooks/Diabetic Retinopathy/APTOS_Dataset/Images/b640e3bdff75.png', '/content/drive/MyDrive/Colab Notebooks/Diabetic Retinopathy/APTOS_Dataset/Images/b5a3ca5c0a80.png', '/content/drive/MyDrive/Colab Notebooks/Diabetic Retinopathy/APTOS_Dataset/Images/b6bfe9db60e5.png', '/content/drive/MyDrive/Colab Notebooks/Diabetic Retinopathy/APTOS_Dataset/Images/b6d9974443ce.png', '/content/drive/MyDrive/Colab Notebooks/Diabetic Retinopathy/APTOS_Dataset/Images/b746a6681ba9.png', '/content/drive/MyDrive/Colab Notebooks/Diabetic Retinopathy/APTOS_Dataset/Images/b74de20d73de.png', '/content/drive/MyDrive/Colab Notebooks/Diabetic Retinopathy/APTOS_Dataset/Images/b70e7c26f51e.png', '/content/drive/MyDrive/Colab Notebooks/Diabetic Retinopathy/APTOS_Dataset/Images/b72a86d61959.png', '/content/drive/MyDrive/Colab Notebooks/Diabetic Retinopathy/APTOS_Dataset/Images/b70cb31b9abb.png', '/content/drive/MyDrive/Colab Notebooks/Diabetic Retinopathy/APTOS_Dataset/Images/b77b8a1f09f1.png', '/content/drive/MyDrive/Colab Notebooks/Diabetic Retinopathy/APTOS_Dataset/Images/b842b43cb7fb.png', '/content/drive/MyDrive/Colab Notebooks/Diabetic Retinopathy/APTOS_Dataset/Images/b83a6eca125f.png', '/content/drive/MyDrive/Colab Notebooks/Diabetic Retinopathy/APTOS_Dataset/Images/b7a1bb106051.png', '/content/drive/MyDrive/Colab Notebooks/Diabetic Retinopathy/APTOS_Dataset/Images/b8297a2291f5.png', '/content/drive/MyDrive/Colab Notebooks/Diabetic Retinopathy/APTOS_Dataset/Images/b7f0bc7d399e.png', '/content/drive/MyDrive/Colab Notebooks/Diabetic Retinopathy/APTOS_Dataset/Images/b7e0f95353f2.png', '/content/drive/MyDrive/Colab Notebooks/Diabetic Retinopathy/APTOS_Dataset/Images/b82dfa63a75f.png', '/content/drive/MyDrive/Colab Notebooks/Diabetic Retinopathy/APTOS_Dataset/Images/b8e20c076b03.png', '/content/drive/MyDrive/Colab Notebooks/Diabetic Retinopathy/APTOS_Dataset/Images/b89938407ee6.png', '/content/drive/MyDrive/Colab Notebooks/Diabetic Retinopathy/APTOS_Dataset/Images/b86fb2d5be1a.png', '/content/drive/MyDrive/Colab Notebooks/Diabetic Retinopathy/APTOS_Dataset/Images/b91ef82e723a.png', '/content/drive/MyDrive/Colab Notebooks/Diabetic Retinopathy/APTOS_Dataset/Images/b90bc89ce8d8.png', '/content/drive/MyDrive/Colab Notebooks/Diabetic Retinopathy/APTOS_Dataset/Images/b8f1b30877db.png', '/content/drive/MyDrive/Colab Notebooks/Diabetic Retinopathy/APTOS_Dataset/Images/b94c58d063bf.png', '/content/drive/MyDrive/Colab Notebooks/Diabetic Retinopathy/APTOS_Dataset/Images/b8fb9f55cd6d.png', '/content/drive/MyDrive/Colab Notebooks/Diabetic Retinopathy/APTOS_Dataset/Images/b98f77098b9d.png', '/content/drive/MyDrive/Colab Notebooks/Diabetic Retinopathy/APTOS_Dataset/Images/b96b518596b3.png', '/content/drive/MyDrive/Colab Notebooks/Diabetic Retinopathy/APTOS_Dataset/Images/ba08cee68c71.png', '/content/drive/MyDrive/Colab Notebooks/Diabetic Retinopathy/APTOS_Dataset/Images/b99c825b93c5.png', '/content/drive/MyDrive/Colab Notebooks/Diabetic Retinopathy/APTOS_Dataset/Images/ba2624883599.png', '/content/drive/MyDrive/Colab Notebooks/Diabetic Retinopathy/APTOS_Dataset/Images/b9b6ee2b9453.png', '/content/drive/MyDrive/Colab Notebooks/Diabetic Retinopathy/APTOS_Dataset/Images/b9b99dad668d.png', '/content/drive/MyDrive/Colab Notebooks/Diabetic Retinopathy/APTOS_Dataset/Images/ba4d2c4b3039.png', '/content/drive/MyDrive/Colab Notebooks/Diabetic Retinopathy/APTOS_Dataset/Images/bac1744955c2.png', '/content/drive/MyDrive/Colab Notebooks/Diabetic Retinopathy/APTOS_Dataset/Images/bab776139279.png', '/content/drive/MyDrive/Colab Notebooks/Diabetic Retinopathy/APTOS_Dataset/Images/bc23f74e14dd.png', '/content/drive/MyDrive/Colab Notebooks/Diabetic Retinopathy/APTOS_Dataset/Images/bb783d8e496f.png', '/content/drive/MyDrive/Colab Notebooks/Diabetic Retinopathy/APTOS_Dataset/Images/bb752b179751.png', '/content/drive/MyDrive/Colab Notebooks/Diabetic Retinopathy/APTOS_Dataset/Images/bb5083fae98f.png', '/content/drive/MyDrive/Colab Notebooks/Diabetic Retinopathy/APTOS_Dataset/Images/bb733062f494.png', '/content/drive/MyDrive/Colab Notebooks/Diabetic Retinopathy/APTOS_Dataset/Images/bb7e0a2544cd.png', '/content/drive/MyDrive/Colab Notebooks/Diabetic Retinopathy/APTOS_Dataset/Images/bba38f2294a3.png', '/content/drive/MyDrive/Colab Notebooks/Diabetic Retinopathy/APTOS_Dataset/Images/bcdc8db5423b.png', '/content/drive/MyDrive/Colab Notebooks/Diabetic Retinopathy/APTOS_Dataset/Images/bd375ba756b1.png', '/content/drive/MyDrive/Colab Notebooks/Diabetic Retinopathy/APTOS_Dataset/Images/bd269a1f0e4d.png', '/content/drive/MyDrive/Colab Notebooks/Diabetic Retinopathy/APTOS_Dataset/Images/bda7ff3b1562.png', '/content/drive/MyDrive/Colab Notebooks/Diabetic Retinopathy/APTOS_Dataset/Images/bdb98063fe84.png', '/content/drive/MyDrive/Colab Notebooks/Diabetic Retinopathy/APTOS_Dataset/Images/bda91b76095b.png', '/content/drive/MyDrive/Colab Notebooks/Diabetic Retinopathy/APTOS_Dataset/Images/bda8c973b09d.png', '/content/drive/MyDrive/Colab Notebooks/Diabetic Retinopathy/APTOS_Dataset/Images/be3a7d9e981e.png', '/content/drive/MyDrive/Colab Notebooks/Diabetic Retinopathy/APTOS_Dataset/Images/bdff5d8bddf8.png', '/content/drive/MyDrive/Colab Notebooks/Diabetic Retinopathy/APTOS_Dataset/Images/be7f791a7877.png', '/content/drive/MyDrive/Colab Notebooks/Diabetic Retinopathy/APTOS_Dataset/Images/beb2ad14fd2d.png', '/content/drive/MyDrive/Colab Notebooks/Diabetic Retinopathy/APTOS_Dataset/Images/beb00fa6e7c9.png', '/content/drive/MyDrive/Colab Notebooks/Diabetic Retinopathy/APTOS_Dataset/Images/bed8296c8dfe.png', '/content/drive/MyDrive/Colab Notebooks/Diabetic Retinopathy/APTOS_Dataset/Images/bec0acd539b2.png', '/content/drive/MyDrive/Colab Notebooks/Diabetic Retinopathy/APTOS_Dataset/Images/bf8092e4001d.png', '/content/drive/MyDrive/Colab Notebooks/Diabetic Retinopathy/APTOS_Dataset/Images/bf18ff30a8f6.png', '/content/drive/MyDrive/Colab Notebooks/Diabetic Retinopathy/APTOS_Dataset/Images/bf7221a016b5.png', '/content/drive/MyDrive/Colab Notebooks/Diabetic Retinopathy/APTOS_Dataset/Images/bfd5c0e55420.png', '/content/drive/MyDrive/Colab Notebooks/Diabetic Retinopathy/APTOS_Dataset/Images/bfb578c0e8d8.png', '/content/drive/MyDrive/Colab Notebooks/Diabetic Retinopathy/APTOS_Dataset/Images/bff51afc76d4.png', '/content/drive/MyDrive/Colab Notebooks/Diabetic Retinopathy/APTOS_Dataset/Images/c01eae4b4939.png', '/content/drive/MyDrive/Colab Notebooks/Diabetic Retinopathy/APTOS_Dataset/Images/c0202976c670.png', '/content/drive/MyDrive/Colab Notebooks/Diabetic Retinopathy/APTOS_Dataset/Images/c06024f05a16.png', '/content/drive/MyDrive/Colab Notebooks/Diabetic Retinopathy/APTOS_Dataset/Images/c0a0828e01b4.png', '/content/drive/MyDrive/Colab Notebooks/Diabetic Retinopathy/APTOS_Dataset/Images/c0968d41eb93.png', '/content/drive/MyDrive/Colab Notebooks/Diabetic Retinopathy/APTOS_Dataset/Images/c0f15fe3b4b7.png', '/content/drive/MyDrive/Colab Notebooks/Diabetic Retinopathy/APTOS_Dataset/Images/c252da9b41d8.png', '/content/drive/MyDrive/Colab Notebooks/Diabetic Retinopathy/APTOS_Dataset/Images/c23ff6dcf15e.png', '/content/drive/MyDrive/Colab Notebooks/Diabetic Retinopathy/APTOS_Dataset/Images/c1e6fa1ad314.png', '/content/drive/MyDrive/Colab Notebooks/Diabetic Retinopathy/APTOS_Dataset/Images/c261b1aaa828.png', '/content/drive/MyDrive/Colab Notebooks/Diabetic Retinopathy/APTOS_Dataset/Images/c280730cc211.png', '/content/drive/MyDrive/Colab Notebooks/Diabetic Retinopathy/APTOS_Dataset/Images/c3cd0200df79.png', '/content/drive/MyDrive/Colab Notebooks/Diabetic Retinopathy/APTOS_Dataset/Images/c3acf47700ea.png', '/content/drive/MyDrive/Colab Notebooks/Diabetic Retinopathy/APTOS_Dataset/Images/c373b73a80c8.png', '/content/drive/MyDrive/Colab Notebooks/Diabetic Retinopathy/APTOS_Dataset/Images/c3aa424eff9a.png', '/content/drive/MyDrive/Colab Notebooks/Diabetic Retinopathy/APTOS_Dataset/Images/c3e02d4a1798.png', '/content/drive/MyDrive/Colab Notebooks/Diabetic Retinopathy/APTOS_Dataset/Images/c48ae5da188e.png', '/content/drive/MyDrive/Colab Notebooks/Diabetic Retinopathy/APTOS_Dataset/Images/c546670d9684.png', '/content/drive/MyDrive/Colab Notebooks/Diabetic Retinopathy/APTOS_Dataset/Images/c57c164bca05.png', '/content/drive/MyDrive/Colab Notebooks/Diabetic Retinopathy/APTOS_Dataset/Images/c568e5245ea5.png', '/content/drive/MyDrive/Colab Notebooks/Diabetic Retinopathy/APTOS_Dataset/Images/c597ef460944.png', '/content/drive/MyDrive/Colab Notebooks/Diabetic Retinopathy/APTOS_Dataset/Images/c62cef02efa2.png', '/content/drive/MyDrive/Colab Notebooks/Diabetic Retinopathy/APTOS_Dataset/Images/c6a145742708.png', '/content/drive/MyDrive/Colab Notebooks/Diabetic Retinopathy/APTOS_Dataset/Images/c6916bc42016.png']\n"
          ],
          "name": "stdout"
        }
      ]
    },
    {
      "cell_type": "code",
      "metadata": {
        "colab": {
          "base_uri": "https://localhost:8080/"
        },
        "id": "Yqc4EDEvhuM-",
        "outputId": "99fc068c-d0eb-4954-f5ce-bad01ff02fb9"
      },
      "source": [
        "processed_imgs = process_data(img_paths, plot=False)\n",
        "print('# imgs processed:', len(processed_imgs))"
      ],
      "execution_count": null,
      "outputs": [
        {
          "output_type": "stream",
          "text": [
            "# imgs processed: 418\n"
          ],
          "name": "stdout"
        }
      ]
    },
    {
      "cell_type": "code",
      "metadata": {
        "id": "FDkGBbzp4Pwd"
      },
      "source": [
        "write_imgs(img_paths, processed_imgs, new_dir)"
      ],
      "execution_count": null,
      "outputs": []
    }
  ]
}