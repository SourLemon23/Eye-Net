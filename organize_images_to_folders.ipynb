{
  "nbformat": 4,
  "nbformat_minor": 0,
  "metadata": {
    "kernelspec": {
      "display_name": "Python 3",
      "language": "python",
      "name": "python3"
    },
    "language_info": {
      "codemirror_mode": {
        "name": "ipython",
        "version": 3
      },
      "file_extension": ".py",
      "mimetype": "text/x-python",
      "name": "python",
      "nbconvert_exporter": "python",
      "pygments_lexer": "ipython3",
      "version": "3.8.5"
    },
    "colab": {
      "name": "organize_images_to_folders.ipynb",
      "provenance": [],
      "collapsed_sections": [],
      "include_colab_link": true
    }
  },
  "cells": [
    {
      "cell_type": "markdown",
      "metadata": {
        "id": "view-in-github",
        "colab_type": "text"
      },
      "source": [
        "<a href=\"https://colab.research.google.com/github/SourLemon23/Eye-Net/blob/main/organize_images_to_folders.ipynb\" target=\"_parent\"><img src=\"https://colab.research.google.com/assets/colab-badge.svg\" alt=\"Open In Colab\"/></a>"
      ]
    },
    {
      "cell_type": "code",
      "metadata": {
        "id": "ndPb5Z9WEIB_"
      },
      "source": [
        "import pandas as pd\n",
        "import shutil\n",
        "import os"
      ],
      "execution_count": null,
      "outputs": []
    },
    {
      "cell_type": "code",
      "metadata": {
        "id": "JYeZ9vIaEICB"
      },
      "source": [
        "xls = pd.ExcelFile(r\"C:\\Users\\arjun\\Downloads\\Annotations.xls\")"
      ],
      "execution_count": null,
      "outputs": []
    },
    {
      "cell_type": "code",
      "metadata": {
        "id": "1Lma-okTEICB"
      },
      "source": [
        "sheetX = xls.parse(0)\n",
        "\n",
        "source_dir = r\"C:\\Users\\arjun\\Downloads\\DataSetImages\"\n",
        "ret_grade_0 = r\"C:\\Users\\arjun\\Desktop\\Diabetic Retinopathy Images\\0\"\n",
        "ret_grade_1 = r\"C:\\Users\\arjun\\Desktop\\Diabetic Retinopathy Images\\1\"\n",
        "ret_grade_2 = r\"C:\\Users\\arjun\\Desktop\\Diabetic Retinopathy Images\\2\"\n",
        "ret_grade_3 = r\"C:\\Users\\arjun\\Desktop\\Diabetic Retinopathy Images\\3\"\n",
        "\n",
        "file_names = os.listdir(source_dir)\n",
        "var1 = sheetX['Retinopathy grade']\n",
        "i = 0\n",
        "\n",
        "for file_name in file_names:\n",
        "    if (var1[i] == 0):\n",
        "        shutil.move(os.path.join(source_dir, file_name), ret_grade_0)\n",
        "    elif (var1[i] == 1):\n",
        "        shutil.move(os.path.join(source_dir, file_name), ret_grade_1)\n",
        "    elif (var1[i] == 2):\n",
        "        shutil.move(os.path.join(source_dir, file_name), ret_grade_2)\n",
        "    elif (var1[i] == 3):\n",
        "        shutil.move(os.path.join(source_dir, file_name), ret_grade_3)\n",
        "    i = i+1"
      ],
      "execution_count": null,
      "outputs": []
    }
  ]
}