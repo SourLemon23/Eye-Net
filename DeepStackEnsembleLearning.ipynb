{
  "nbformat": 4,
  "nbformat_minor": 0,
  "metadata": {
    "colab": {
      "name": "DeepStackEnsembleLearning.ipynb",
      "provenance": [],
      "collapsed_sections": [],
      "include_colab_link": true
    },
    "kernelspec": {
      "name": "python3",
      "display_name": "Python 3"
    },
    "language_info": {
      "name": "python"
    }
  },
  "cells": [
    {
      "cell_type": "markdown",
      "metadata": {
        "id": "view-in-github",
        "colab_type": "text"
      },
      "source": [
        "<a href=\"https://colab.research.google.com/github/SourLemon23/Eye-Net/blob/main/DeepStackEnsembleLearning.ipynb\" target=\"_parent\"><img src=\"https://colab.research.google.com/assets/colab-badge.svg\" alt=\"Open In Colab\"/></a>"
      ]
    },
    {
      "cell_type": "code",
      "metadata": {
        "colab": {
          "base_uri": "https://localhost:8080/"
        },
        "id": "FqfQqSUJVcdl",
        "outputId": "65d763ec-90c4-4519-8d96-2e32680ce8d2"
      },
      "source": [
        "import tensorflow as tf\n",
        "try:\n",
        "    %tensorflow_version 2.x\n",
        "except:\n",
        "    pass\n",
        "\n",
        "print('Using TensorFlow Version:', tf.__version__)\n",
        "\n",
        "! pip install tensorflow-addons\n",
        "\n",
        "\n",
        "import tensorflow_addons as tfa\n",
        "from tensorflow_addons.metrics import CohenKappa\n",
        "\n",
        "import tensorflow.keras.backend as K\n",
        "\n",
        "from tensorflow.keras import Input\n",
        "from tensorflow.keras.models import Model\n",
        "from tensorflow.keras.models import load_model\n",
        "from tensorflow.keras.preprocessing.image import ImageDataGenerator\n",
        "from tensorflow.keras.layers import GlobalAveragePooling2D, Flatten, Dense\n",
        "from tensorflow.keras.metrics import Precision, Recall\n",
        "from tensorflow.keras.preprocessing.image import load_img, img_to_array\n",
        "from tensorflow.keras.callbacks import EarlyStopping, TensorBoard\n",
        "from tensorflow.keras.optimizers import Adam\n",
        "from tensorflow.keras.applications.resnet50 import ResNet50\n",
        "from tensorflow.keras.utils import to_categorical\n",
        "\n",
        "import seaborn as sns\n",
        "from sklearn.manifold import TSNE\n",
        "from tqdm import tqdm, tqdm_notebook\n",
        "from sklearn.metrics import cohen_kappa_score\n",
        "from sklearn.metrics import confusion_matrix, ConfusionMatrixDisplay, classification_report\n",
        "from sklearn.metrics import roc_curve, roc_auc_score, precision_recall_curve, average_precision_score, PrecisionRecallDisplay\n",
        "\n",
        "import numpy as np\n",
        "import matplotlib.pyplot as plt\n",
        "import cv2\n",
        "\n",
        "import pandas as pd\n",
        "import os\n",
        "import importlib\n",
        "import sys\n",
        "\n",
        "! pip install deepstack\n",
        "! pip install joblib\n",
        "import joblib as joblib"
      ],
      "execution_count": null,
      "outputs": [
        {
          "output_type": "stream",
          "text": [
            "Using TensorFlow Version: 2.5.0\n",
            "Collecting tensorflow-addons\n",
            "\u001b[?25l  Downloading https://files.pythonhosted.org/packages/66/4b/e893d194e626c24b3df2253066aa418f46a432fdb68250cde14bf9bb0700/tensorflow_addons-0.13.0-cp37-cp37m-manylinux2010_x86_64.whl (679kB)\n",
            "\u001b[K     |████████████████████████████████| 686kB 4.1MB/s \n",
            "\u001b[?25hRequirement already satisfied: typeguard>=2.7 in /usr/local/lib/python3.7/dist-packages (from tensorflow-addons) (2.7.1)\n",
            "Installing collected packages: tensorflow-addons\n",
            "Successfully installed tensorflow-addons-0.13.0\n",
            "Collecting deepstack\n",
            "  Downloading https://files.pythonhosted.org/packages/36/0a/7555b16579570cad2ec2b02b7a52ae6406f983e8fdde156ac3fe109fd16f/deepstack-0.0.9-py3-none-any.whl\n",
            "Requirement already satisfied: tensorflow>=1.14.0 in /usr/local/lib/python3.7/dist-packages (from deepstack) (2.5.0)\n",
            "Requirement already satisfied: scikit-learn>=0.21.2 in /usr/local/lib/python3.7/dist-packages (from deepstack) (0.22.2.post1)\n",
            "Requirement already satisfied: keras>=2.2.5 in /usr/local/lib/python3.7/dist-packages (from deepstack) (2.4.3)\n",
            "Requirement already satisfied: numpy>=1.16.4 in /usr/local/lib/python3.7/dist-packages (from deepstack) (1.19.5)\n",
            "Requirement already satisfied: tensorboard~=2.5 in /usr/local/lib/python3.7/dist-packages (from tensorflow>=1.14.0->deepstack) (2.5.0)\n",
            "Requirement already satisfied: absl-py~=0.10 in /usr/local/lib/python3.7/dist-packages (from tensorflow>=1.14.0->deepstack) (0.12.0)\n",
            "Requirement already satisfied: wheel~=0.35 in /usr/local/lib/python3.7/dist-packages (from tensorflow>=1.14.0->deepstack) (0.36.2)\n",
            "Requirement already satisfied: h5py~=3.1.0 in /usr/local/lib/python3.7/dist-packages (from tensorflow>=1.14.0->deepstack) (3.1.0)\n",
            "Requirement already satisfied: wrapt~=1.12.1 in /usr/local/lib/python3.7/dist-packages (from tensorflow>=1.14.0->deepstack) (1.12.1)\n",
            "Requirement already satisfied: protobuf>=3.9.2 in /usr/local/lib/python3.7/dist-packages (from tensorflow>=1.14.0->deepstack) (3.17.3)\n",
            "Requirement already satisfied: astunparse~=1.6.3 in /usr/local/lib/python3.7/dist-packages (from tensorflow>=1.14.0->deepstack) (1.6.3)\n",
            "Requirement already satisfied: keras-nightly~=2.5.0.dev in /usr/local/lib/python3.7/dist-packages (from tensorflow>=1.14.0->deepstack) (2.5.0.dev2021032900)\n",
            "Requirement already satisfied: gast==0.4.0 in /usr/local/lib/python3.7/dist-packages (from tensorflow>=1.14.0->deepstack) (0.4.0)\n",
            "Requirement already satisfied: flatbuffers~=1.12.0 in /usr/local/lib/python3.7/dist-packages (from tensorflow>=1.14.0->deepstack) (1.12)\n",
            "Requirement already satisfied: six~=1.15.0 in /usr/local/lib/python3.7/dist-packages (from tensorflow>=1.14.0->deepstack) (1.15.0)\n",
            "Requirement already satisfied: google-pasta~=0.2 in /usr/local/lib/python3.7/dist-packages (from tensorflow>=1.14.0->deepstack) (0.2.0)\n",
            "Requirement already satisfied: tensorflow-estimator<2.6.0,>=2.5.0rc0 in /usr/local/lib/python3.7/dist-packages (from tensorflow>=1.14.0->deepstack) (2.5.0)\n",
            "Requirement already satisfied: opt-einsum~=3.3.0 in /usr/local/lib/python3.7/dist-packages (from tensorflow>=1.14.0->deepstack) (3.3.0)\n",
            "Requirement already satisfied: keras-preprocessing~=1.1.2 in /usr/local/lib/python3.7/dist-packages (from tensorflow>=1.14.0->deepstack) (1.1.2)\n",
            "Requirement already satisfied: termcolor~=1.1.0 in /usr/local/lib/python3.7/dist-packages (from tensorflow>=1.14.0->deepstack) (1.1.0)\n",
            "Requirement already satisfied: typing-extensions~=3.7.4 in /usr/local/lib/python3.7/dist-packages (from tensorflow>=1.14.0->deepstack) (3.7.4.3)\n",
            "Requirement already satisfied: grpcio~=1.34.0 in /usr/local/lib/python3.7/dist-packages (from tensorflow>=1.14.0->deepstack) (1.34.1)\n",
            "Requirement already satisfied: scipy>=0.17.0 in /usr/local/lib/python3.7/dist-packages (from scikit-learn>=0.21.2->deepstack) (1.4.1)\n",
            "Requirement already satisfied: joblib>=0.11 in /usr/local/lib/python3.7/dist-packages (from scikit-learn>=0.21.2->deepstack) (1.0.1)\n",
            "Requirement already satisfied: pyyaml in /usr/local/lib/python3.7/dist-packages (from keras>=2.2.5->deepstack) (3.13)\n",
            "Requirement already satisfied: markdown>=2.6.8 in /usr/local/lib/python3.7/dist-packages (from tensorboard~=2.5->tensorflow>=1.14.0->deepstack) (3.3.4)\n",
            "Requirement already satisfied: google-auth-oauthlib<0.5,>=0.4.1 in /usr/local/lib/python3.7/dist-packages (from tensorboard~=2.5->tensorflow>=1.14.0->deepstack) (0.4.4)\n",
            "Requirement already satisfied: tensorboard-data-server<0.7.0,>=0.6.0 in /usr/local/lib/python3.7/dist-packages (from tensorboard~=2.5->tensorflow>=1.14.0->deepstack) (0.6.1)\n",
            "Requirement already satisfied: requests<3,>=2.21.0 in /usr/local/lib/python3.7/dist-packages (from tensorboard~=2.5->tensorflow>=1.14.0->deepstack) (2.23.0)\n",
            "Requirement already satisfied: setuptools>=41.0.0 in /usr/local/lib/python3.7/dist-packages (from tensorboard~=2.5->tensorflow>=1.14.0->deepstack) (57.2.0)\n",
            "Requirement already satisfied: tensorboard-plugin-wit>=1.6.0 in /usr/local/lib/python3.7/dist-packages (from tensorboard~=2.5->tensorflow>=1.14.0->deepstack) (1.8.0)\n",
            "Requirement already satisfied: werkzeug>=0.11.15 in /usr/local/lib/python3.7/dist-packages (from tensorboard~=2.5->tensorflow>=1.14.0->deepstack) (1.0.1)\n",
            "Requirement already satisfied: google-auth<2,>=1.6.3 in /usr/local/lib/python3.7/dist-packages (from tensorboard~=2.5->tensorflow>=1.14.0->deepstack) (1.32.1)\n",
            "Requirement already satisfied: cached-property; python_version < \"3.8\" in /usr/local/lib/python3.7/dist-packages (from h5py~=3.1.0->tensorflow>=1.14.0->deepstack) (1.5.2)\n",
            "Requirement already satisfied: importlib-metadata; python_version < \"3.8\" in /usr/local/lib/python3.7/dist-packages (from markdown>=2.6.8->tensorboard~=2.5->tensorflow>=1.14.0->deepstack) (4.6.1)\n",
            "Requirement already satisfied: requests-oauthlib>=0.7.0 in /usr/local/lib/python3.7/dist-packages (from google-auth-oauthlib<0.5,>=0.4.1->tensorboard~=2.5->tensorflow>=1.14.0->deepstack) (1.3.0)\n",
            "Requirement already satisfied: certifi>=2017.4.17 in /usr/local/lib/python3.7/dist-packages (from requests<3,>=2.21.0->tensorboard~=2.5->tensorflow>=1.14.0->deepstack) (2021.5.30)\n",
            "Requirement already satisfied: urllib3!=1.25.0,!=1.25.1,<1.26,>=1.21.1 in /usr/local/lib/python3.7/dist-packages (from requests<3,>=2.21.0->tensorboard~=2.5->tensorflow>=1.14.0->deepstack) (1.24.3)\n",
            "Requirement already satisfied: chardet<4,>=3.0.2 in /usr/local/lib/python3.7/dist-packages (from requests<3,>=2.21.0->tensorboard~=2.5->tensorflow>=1.14.0->deepstack) (3.0.4)\n",
            "Requirement already satisfied: idna<3,>=2.5 in /usr/local/lib/python3.7/dist-packages (from requests<3,>=2.21.0->tensorboard~=2.5->tensorflow>=1.14.0->deepstack) (2.10)\n",
            "Requirement already satisfied: cachetools<5.0,>=2.0.0 in /usr/local/lib/python3.7/dist-packages (from google-auth<2,>=1.6.3->tensorboard~=2.5->tensorflow>=1.14.0->deepstack) (4.2.2)\n",
            "Requirement already satisfied: rsa<5,>=3.1.4; python_version >= \"3.6\" in /usr/local/lib/python3.7/dist-packages (from google-auth<2,>=1.6.3->tensorboard~=2.5->tensorflow>=1.14.0->deepstack) (4.7.2)\n",
            "Requirement already satisfied: pyasn1-modules>=0.2.1 in /usr/local/lib/python3.7/dist-packages (from google-auth<2,>=1.6.3->tensorboard~=2.5->tensorflow>=1.14.0->deepstack) (0.2.8)\n",
            "Requirement already satisfied: zipp>=0.5 in /usr/local/lib/python3.7/dist-packages (from importlib-metadata; python_version < \"3.8\"->markdown>=2.6.8->tensorboard~=2.5->tensorflow>=1.14.0->deepstack) (3.5.0)\n",
            "Requirement already satisfied: oauthlib>=3.0.0 in /usr/local/lib/python3.7/dist-packages (from requests-oauthlib>=0.7.0->google-auth-oauthlib<0.5,>=0.4.1->tensorboard~=2.5->tensorflow>=1.14.0->deepstack) (3.1.1)\n",
            "Requirement already satisfied: pyasn1>=0.1.3 in /usr/local/lib/python3.7/dist-packages (from rsa<5,>=3.1.4; python_version >= \"3.6\"->google-auth<2,>=1.6.3->tensorboard~=2.5->tensorflow>=1.14.0->deepstack) (0.4.8)\n",
            "Installing collected packages: deepstack\n",
            "Successfully installed deepstack-0.0.9\n",
            "Requirement already satisfied: joblib in /usr/local/lib/python3.7/dist-packages (1.0.1)\n"
          ],
          "name": "stdout"
        }
      ]
    },
    {
      "cell_type": "markdown",
      "metadata": {
        "id": "2C8-MzMVNhz4"
      },
      "source": [
        "Need the following cell to correct a mistake in ensemble.py from DeepStack (https://github.com/jcborges/DeepStack)"
      ]
    },
    {
      "cell_type": "code",
      "metadata": {
        "colab": {
          "base_uri": "https://localhost:8080/"
        },
        "id": "Qss29TZLVymO",
        "outputId": "73c83721-20c3-4944-d933-821797f91fa1"
      },
      "source": [
        "# Authorize access to mount Google Drive\n",
        "from google.colab import drive\n",
        "drive.mount('/content/drive')"
      ],
      "execution_count": null,
      "outputs": [
        {
          "output_type": "stream",
          "text": [
            "Mounted at /content/drive\n"
          ],
          "name": "stdout"
        }
      ]
    },
    {
      "cell_type": "code",
      "metadata": {
        "id": "4rBGXurpVwny"
      },
      "source": [
        "fin = open(r'/usr/local/lib/python3.7/dist-packages/deepstack/ensemble.py', \"rt\")\n",
        "#read file contents to string\n",
        "data = fin.read()\n",
        "#replace all occurrences of the required string\n",
        "data = data.replace('from keras.utils import to_categorical', 'from tensorflow.keras.utils import to_categorical')\n",
        "#close the input file\n",
        "fin.close()\n",
        "#open the input file in write mode\n",
        "fin = open(r'/usr/local/lib/python3.7/dist-packages/deepstack/ensemble.py', \"wt\")\n",
        "#overrite the input file with the resulting data\n",
        "fin.write(data)\n",
        "#close the file\n",
        "fin.close()\n",
        "\n",
        "from deepstack.base import KerasMember  # For a generic (i.e., Non-Keras Model) check the class `Member`\n",
        "from deepstack.ensemble import StackEnsemble"
      ],
      "execution_count": null,
      "outputs": []
    },
    {
      "cell_type": "code",
      "metadata": {
        "id": "4S42_IffV9mf"
      },
      "source": [
        "dataset_dir = r'/content/drive/MyDrive/Colab Notebooks/Diabetic Retinopathy/cropped_APTOS_dataset'\n",
        "labels = r'/content/drive/MyDrive/Colab Notebooks/Diabetic Retinopathy/v2APTOSBinaryData.csv'"
      ],
      "execution_count": null,
      "outputs": []
    },
    {
      "cell_type": "code",
      "metadata": {
        "id": "D9HrJoy3YDVp"
      },
      "source": [
        "train_data = pd.read_csv(labels, dtype = str)"
      ],
      "execution_count": null,
      "outputs": []
    },
    {
      "cell_type": "code",
      "metadata": {
        "id": "rZUSnCwBXzMk"
      },
      "source": [
        "CLASSES = ['0 - No DR', '1 - DR']\n",
        "\n",
        "CHANNELS = 3\n",
        "COLOR_MODE = 'rgb'\n",
        "\n",
        "IMG_WIDTH, IMG_HEIGHT = 250, 250\n",
        "TARGET_SIZE = (IMG_WIDTH, IMG_HEIGHT)\n",
        "INPUT_SHAPE = (IMG_WIDTH, IMG_HEIGHT, CHANNELS)\n",
        "\n",
        "LEARNING_RATE = 0.001 # default for Adam\n",
        "MIN_DELTA = 1e-5\n",
        "PATIENCE = 4\n",
        "BATCH_SIZE = 32\n",
        "EPOCHS = 5\n",
        "VALIDATION_SPLIT = 0.15\n",
        "\n",
        "METRICS = ['accuracy',\n",
        "           Precision(name='precision'),\n",
        "           Recall(name='recall'),\n",
        "           CohenKappa(num_classes=2)]\n",
        "\n",
        "font_settings = {'family': 'DejaVu Sans',\n",
        "                  'color' : 'red',\n",
        "                  'weight': 'heavy',\n",
        "                  'size'  :  11}"
      ],
      "execution_count": null,
      "outputs": []
    },
    {
      "cell_type": "code",
      "metadata": {
        "id": "qO4qRx98XMdR"
      },
      "source": [
        "data_gen = ImageDataGenerator(validation_split=VALIDATION_SPLIT,\n",
        "                              featurewise_center=True,\n",
        "                              featurewise_std_normalization=True,\n",
        "                              rescale=1./255,              # Simplify pixel values to be 0-1\n",
        "                              horizontal_flip=True,        # Randomly flip images horizontally\n",
        "                              zoom_range=0.1,              # Randomly zoom\n",
        "                              shear_range=0.05,            # Shear angle in counter-clockwise direction\n",
        "                              rotation_range=5,            # Randomly rotate\n",
        "                              width_shift_range=0.03,      # Randomly shift the image left/right\n",
        "                              height_shift_range=0.03,     # Randomly shift the image up/down\n",
        "                              fill_mode='constant',        # Filling mode for points outside boundaries\n",
        "                              cval=60,                     # Value used for points outside the boundaries\n",
        "                              brightness_range=(0.9, 1.1)) # Randomly adjust the brightness\n",
        "                            #  preprocessing_function for filters (if have time)"
      ],
      "execution_count": null,
      "outputs": []
    },
    {
      "cell_type": "code",
      "metadata": {
        "colab": {
          "base_uri": "https://localhost:8080/"
        },
        "id": "uT9vigrVXlwv",
        "outputId": "c044ae43-86a9-4e87-bce8-fd9e4a95e4c3"
      },
      "source": [
        "training_generator = data_gen.flow_from_dataframe(train_data, directory = dataset_dir,\n",
        "                                                    subset = \"training\",\n",
        "                                                    x_col = \"id_code\", y_col = \"diagnosis\",\n",
        "                                                    color_mode=COLOR_MODE,\n",
        "                                                    target_size=TARGET_SIZE,\n",
        "                                                    class_mode='binary',\n",
        "                                                    batch_size=BATCH_SIZE,\n",
        "                                                    shuffle=True,\n",
        "                                                    validate_filenames=True)\n",
        "\n",
        "validation_generator = data_gen.flow_from_dataframe(train_data, directory = dataset_dir,\n",
        "                                                    subset = \"validation\",\n",
        "                                                    x_col = \"id_code\", y_col = \"diagnosis\",\n",
        "                                                    color_mode=COLOR_MODE,\n",
        "                                                    target_size=TARGET_SIZE,\n",
        "                                                    class_mode='binary',\n",
        "                                                    batch_size=BATCH_SIZE,\n",
        "                                                    shuffle=True,\n",
        "                                                    validate_filenames=True)"
      ],
      "execution_count": null,
      "outputs": [
        {
          "output_type": "stream",
          "text": [
            "Found 2900 validated image filenames belonging to 2 classes.\n",
            "Found 511 validated image filenames belonging to 2 classes.\n"
          ],
          "name": "stdout"
        }
      ]
    },
    {
      "cell_type": "code",
      "metadata": {
        "id": "U8th57RfXqa6"
      },
      "source": [
        "model1 = load_model(r'/content/drive/MyDrive/Colab Notebooks/Diabetic Retinopathy/models/EfficientNet-B2')\n",
        "member1 = KerasMember(name=\"EfficientNet-B2\", keras_model=model1, train_batches=training_generator, val_batches=validation_generator)\n",
        "\n",
        "model2 = load_model(r'/content/drive/MyDrive/Colab Notebooks/Diabetic Retinopathy/models/ResNet-50V2')\n",
        "member2 = KerasMember(name=\"ResNet-50V2\", keras_model=model2, train_batches=training_generator, val_batches=validation_generator)\n",
        "\n",
        "model3 = load_model(r'/content/drive/MyDrive/Colab Notebooks/Diabetic Retinopathy/models/Xception')\n",
        "member3 = KerasMember(name=\"Xception\", keras_model=model3, train_batches=training_generator, val_batches=validation_generator)\n",
        "\n",
        "model4 = load_model(r'/content/drive/MyDrive/Colab Notebooks/Diabetic Retinopathy/models/Inception-v3')\n",
        "member4 = KerasMember(name=\"Inception-v3\", keras_model=model4, train_batches=training_generator, val_batches=validation_generator)\n",
        "\n",
        "model5 = load_model(r'/content/drive/MyDrive/Colab Notebooks/Diabetic Retinopathy/models/MobileNetV2')\n",
        "member5 = KerasMember(name=\"MobileNetV2\", keras_model=model5, train_batches=training_generator, val_batches=validation_generator)\n",
        "\n",
        "model6 = load_model(r'/content/drive/MyDrive/Colab Notebooks/Diabetic Retinopathy/models/DenseNet-201')\n",
        "member6 = KerasMember(name=\"DenseNet-201\", keras_model=model6, train_batches=training_generator, val_batches=validation_generator)\n",
        "\n",
        "model7 = load_model(r'/content/drive/MyDrive/Colab Notebooks/Diabetic Retinopathy/models/VGG19')\n",
        "member7 = KerasMember(name=\"VGG19\", keras_model=model7, train_batches=training_generator, val_batches=validation_generator)"
      ],
      "execution_count": null,
      "outputs": []
    },
    {
      "cell_type": "code",
      "metadata": {
        "colab": {
          "base_uri": "https://localhost:8080/"
        },
        "id": "igyzFiBVYPLa",
        "outputId": "3cfaac43-b5b0-43d2-a73e-0944359b3361"
      },
      "source": [
        "ensemble_model = StackEnsemble()\n",
        "ensemble_model.add_member(member1)\n",
        "ensemble_model.add_member(member2)\n",
        "# ensemble_model.add_member(member3)\n",
        "# ensemble_model.add_member(member4)\n",
        "ensemble_model.add_member(member5)\n",
        "ensemble_model.add_member(member6)\n",
        "# ensemble_model.add_member(member7)\n",
        "ensemble_model.fit()\n",
        "ensemble_model.describe()"
      ],
      "execution_count": null,
      "outputs": [
        {
          "output_type": "stream",
          "text": [
            "Calling predict\n",
            "EfficientNet-B2 - roc_auc_score: 0.9927\n",
            "ResNet-50V2 - roc_auc_score: 0.9939\n",
            "MobileNetV2 - roc_auc_score: 0.9949\n",
            "DenseNet-201 - roc_auc_score: 0.9945\n",
            "StackEnsemble roc_auc_score: 0.9948\n"
          ],
          "name": "stdout"
        },
        {
          "output_type": "execute_result",
          "data": {
            "text/plain": [
              "0.9947765793528505"
            ]
          },
          "metadata": {
            "tags": []
          },
          "execution_count": 180
        }
      ]
    },
    {
      "cell_type": "code",
      "metadata": {
        "colab": {
          "base_uri": "https://localhost:8080/"
        },
        "id": "OYFkqucQM1q0",
        "outputId": "c6cd9af2-a16a-4e7f-d9b9-f2a6954c2118"
      },
      "source": [
        "model_filepath = r'/content/drive/MyDrive/Colab Notebooks/Diabetic Retinopathy/ensemble_models/4_Ensemble_Model_v5'\n",
        "ensemble_model.save(model_filepath)"
      ],
      "execution_count": null,
      "outputs": [
        {
          "output_type": "execute_result",
          "data": {
            "text/plain": [
              "<StackEnsemble: [EfficientNet-B2, ResNet-50V2, MobileNetV2, DenseNet-201]>"
            ]
          },
          "metadata": {
            "tags": []
          },
          "execution_count": 183
        }
      ]
    },
    {
      "cell_type": "code",
      "metadata": {
        "colab": {
          "base_uri": "https://localhost:8080/"
        },
        "id": "kUNhEnL_iFX-",
        "outputId": "2ac48aa8-31b6-49f3-bc86-be7020f1631c"
      },
      "source": [
        "ensemble_model1 = StackEnsemble.load(r'/content/drive/MyDrive/Colab Notebooks/Diabetic Retinopathy/ensemble_models/4_Ensemble_Model_v1')\n",
        "ensemble_model2 = StackEnsemble.load(r'/content/drive/MyDrive/Colab Notebooks/Diabetic Retinopathy/ensemble_models/4_Ensemble_Model_v2')\n",
        "ensemble_model3 = StackEnsemble.load(r'/content/drive/MyDrive/Colab Notebooks/Diabetic Retinopathy/ensemble_models/4_Ensemble_Model_v3')\n",
        "ensemble_model4 = StackEnsemble.load(r'/content/drive/MyDrive/Colab Notebooks/Diabetic Retinopathy/ensemble_models/4_Ensemble_Model_v4')\n",
        "ensemble_model5 = StackEnsemble.load(r'/content/drive/MyDrive/Colab Notebooks/Diabetic Retinopathy/ensemble_models/4_Ensemble_Model_v5')"
      ],
      "execution_count": null,
      "outputs": [
        {
          "output_type": "stream",
          "text": [
            "Loaded EfficientNet-B2\n",
            "Loaded ResNet-50V2\n",
            "Loaded MobileNetV2\n",
            "Loaded DenseNet-201\n",
            "Loaded EfficientNet-B2\n",
            "Loaded ResNet-50V2\n",
            "Loaded MobileNetV2\n",
            "Loaded DenseNet-201\n",
            "Loaded EfficientNet-B2\n",
            "Loaded ResNet-50V2\n",
            "Loaded MobileNetV2\n",
            "Loaded DenseNet-201\n",
            "Loaded EfficientNet-B2\n",
            "Loaded ResNet-50V2\n",
            "Loaded MobileNetV2\n",
            "Loaded DenseNet-201\n",
            "Loaded EfficientNet-B2\n",
            "Loaded ResNet-50V2\n",
            "Loaded MobileNetV2\n",
            "Loaded DenseNet-201\n"
          ],
          "name": "stdout"
        }
      ]
    },
    {
      "cell_type": "code",
      "metadata": {
        "colab": {
          "base_uri": "https://localhost:8080/"
        },
        "id": "TABu5TZhp7nB",
        "outputId": "c913d4f8-afc8-4458-9979-c8a2476783ae"
      },
      "source": [
        "e_predictions1 = ensemble_model1._predict_val()\n",
        "e_rounded_predictions1 = np.around(e_predictions1.copy()).astype(int)\n",
        "print()"
      ],
      "execution_count": null,
      "outputs": [
        {
          "output_type": "stream",
          "text": [
            "Calling predict\n",
            "\n"
          ],
          "name": "stdout"
        }
      ]
    },
    {
      "cell_type": "code",
      "metadata": {
        "colab": {
          "base_uri": "https://localhost:8080/"
        },
        "id": "XdFgfVVDp796",
        "outputId": "84af6114-95dc-4622-c82c-530b93226d6d"
      },
      "source": [
        "e_predictions2 = ensemble_model2._predict_val()\n",
        "e_rounded_predictions2 = np.around(e_predictions2.copy()).astype(int)"
      ],
      "execution_count": null,
      "outputs": [
        {
          "output_type": "stream",
          "text": [
            "Calling predict\n"
          ],
          "name": "stdout"
        }
      ]
    },
    {
      "cell_type": "code",
      "metadata": {
        "colab": {
          "base_uri": "https://localhost:8080/"
        },
        "id": "Kut1fmP2p8Mf",
        "outputId": "4ab85a41-fba6-4801-d296-20a94f8f2a61"
      },
      "source": [
        "e_predictions3 = ensemble_model._predict_val()\n",
        "e_rounded_predictions3 = np.around(e_predictions3.copy()).astype(int)"
      ],
      "execution_count": null,
      "outputs": [
        {
          "output_type": "stream",
          "text": [
            "Calling predict\n"
          ],
          "name": "stdout"
        }
      ]
    },
    {
      "cell_type": "code",
      "metadata": {
        "colab": {
          "base_uri": "https://localhost:8080/"
        },
        "id": "aAi5TbH-p8Xg",
        "outputId": "eee729c0-f299-435f-9d1d-58ef88eceeb4"
      },
      "source": [
        "e_predictions4 = ensemble_model4._predict_val()\n",
        "e_rounded_predictions4 = np.around(e_predictions4.copy()).astype(int)"
      ],
      "execution_count": null,
      "outputs": [
        {
          "output_type": "stream",
          "text": [
            "Calling predict\n"
          ],
          "name": "stdout"
        }
      ]
    },
    {
      "cell_type": "code",
      "metadata": {
        "colab": {
          "base_uri": "https://localhost:8080/"
        },
        "id": "_jqQ5qQrp8xw",
        "outputId": "523914dc-c46e-4342-a77b-1baeaa647833"
      },
      "source": [
        "e_predictions5 = ensemble_model5._predict_val()\n",
        "e_rounded_predictions5 = np.around(e_predictions5.copy()).astype(int)"
      ],
      "execution_count": null,
      "outputs": [
        {
          "output_type": "stream",
          "text": [
            "Calling predict\n"
          ],
          "name": "stdout"
        }
      ]
    },
    {
      "cell_type": "code",
      "metadata": {
        "id": "JJXvbqhXqQWB"
      },
      "source": [
        "acc, prec, rec, f1 = get_metrics_for_stacks(e_rounded_predictions1, e_rounded_predictions2, e_rounded_predictions3, e_rounded_predictions4, e_rounded_predictions5)"
      ],
      "execution_count": null,
      "outputs": []
    },
    {
      "cell_type": "code",
      "metadata": {
        "id": "AjZkd9Wz1McN"
      },
      "source": [
        "import sklearn\n",
        "from sklearn.metrics import cohen_kappa_score"
      ],
      "execution_count": null,
      "outputs": []
    },
    {
      "cell_type": "code",
      "metadata": {
        "colab": {
          "base_uri": "https://localhost:8080/"
        },
        "id": "hP4M5WjZ1UID",
        "outputId": "ba23d847-a147-45ad-abf0-c4b5029791d9"
      },
      "source": [
        "cohen_kappa_score(e_rounded_predictions5, validation_generator.labels)"
      ],
      "execution_count": null,
      "outputs": [
        {
          "output_type": "execute_result",
          "data": {
            "text/plain": [
              "0.9528147988549971"
            ]
          },
          "metadata": {
            "tags": []
          },
          "execution_count": 222
        }
      ]
    },
    {
      "cell_type": "code",
      "metadata": {
        "colab": {
          "base_uri": "https://localhost:8080/"
        },
        "id": "MXKUwGahu1Z4",
        "outputId": "14b885f8-9162-49ae-8533-3311535a2981"
      },
      "source": [
        "for i, metric in enumerate([acc, prec, rec, f1]):\n",
        "    avg = \"{:.4f}\".format(np.mean(metric))\n",
        "    std = \"{:.10f}\".format(np.std(metric))\n",
        "    se = \"{:.10f}\".format(float(std) / (validation_generator.n) ** 0.5)\n",
        "    print(str(i) + ': {} ± {}'.format(avg, se))"
      ],
      "execution_count": null,
      "outputs": [
        {
          "output_type": "stream",
          "text": [
            "0: 0.9765 ± 0.0000000000\n",
            "1: 0.9852 ± 0.0000000000\n",
            "2: 0.9709 ± 0.0000000000\n",
            "3: 0.9780 ± 0.0000000000\n"
          ],
          "name": "stdout"
        }
      ]
    },
    {
      "cell_type": "code",
      "metadata": {
        "id": "LIwR26Intm1U"
      },
      "source": [
        "def get_metrics_for_stacks(e1, e2, e3, e4, e5):\n",
        "    acc = []\n",
        "    prec = []\n",
        "    rec = []\n",
        "    f1 = []\n",
        "\n",
        "    for i, preds in enumerate([e1, e2, e3, e4, e5]):\n",
        "        false_positives = 0\n",
        "        false_negatives = 0\n",
        "        true_positives = 0\n",
        "        true_negatives = 0\n",
        "\n",
        "        for i in range(len(preds)):\n",
        "          if (preds[i] != validation_generator.labels[i] and validation_generator.labels[i] == 0):\n",
        "            false_positives+=1\n",
        "          elif (preds[i] != validation_generator.labels[i] and validation_generator.labels[i] == 1):\n",
        "            false_negatives+=1\n",
        "          elif (preds[i] == validation_generator.labels[i] and validation_generator.labels[i] == 0):\n",
        "            true_negatives+=1\n",
        "          elif (preds[i] == validation_generator.labels[i] and validation_generator.labels[i] == 1):\n",
        "            true_positives+=1\n",
        "\n",
        "        # print('true_positives', true_positives)\n",
        "        # print('true_negatives', true_negatives)\n",
        "        # print('false_negatives', false_negatives)\n",
        "        # print('false_positives', false_positives)\n",
        "        \n",
        "        precision = true_positives / (true_positives + false_positives)\n",
        "        recall = true_positives / (true_positives + false_negatives)\n",
        "        accuracy = (true_positives + true_negatives) / (true_positives + true_negatives + false_negatives + false_positives)\n",
        "        f1_score = 2*precision*recall / (precision+recall)\n",
        "\n",
        "        acc.append(accuracy)\n",
        "        prec.append(precision)\n",
        "        rec.append(recall)\n",
        "        f1.append(f1_score)\n",
        "\n",
        "    return acc, prec, rec, f1\n",
        "\n",
        "    # print('accuracy', accuracy)\n",
        "    # print('precision', precision)\n",
        "    # print('recall', recall)\n",
        "    # print('f1_score', f1_score)"
      ],
      "execution_count": null,
      "outputs": []
    },
    {
      "cell_type": "code",
      "metadata": {
        "colab": {
          "base_uri": "https://localhost:8080/"
        },
        "id": "oCBxB_yaNKGs",
        "outputId": "cb3cbd4a-1335-4283-abd6-c5a28c753141"
      },
      "source": [
        "predictions1 = model1.predict(validation_generator,\n",
        "                              verbose=1)\n",
        "rounded_predictions1 = np.around(predictions1.copy()).astype(int)"
      ],
      "execution_count": null,
      "outputs": [
        {
          "output_type": "stream",
          "text": [
            "/usr/local/lib/python3.7/dist-packages/keras_preprocessing/image/image_data_generator.py:720: UserWarning: This ImageDataGenerator specifies `featurewise_center`, but it hasn't been fit on any training data. Fit it first by calling `.fit(numpy_data)`.\n",
            "  warnings.warn('This ImageDataGenerator specifies '\n",
            "/usr/local/lib/python3.7/dist-packages/keras_preprocessing/image/image_data_generator.py:728: UserWarning: This ImageDataGenerator specifies `featurewise_std_normalization`, but it hasn't been fit on any training data. Fit it first by calling `.fit(numpy_data)`.\n",
            "  warnings.warn('This ImageDataGenerator specifies '\n"
          ],
          "name": "stderr"
        },
        {
          "output_type": "stream",
          "text": [
            "16/16 [==============================] - 101s 6s/step\n"
          ],
          "name": "stdout"
        }
      ]
    },
    {
      "cell_type": "code",
      "metadata": {
        "colab": {
          "base_uri": "https://localhost:8080/"
        },
        "id": "91QMkvt0R6yY",
        "outputId": "76d5cc62-f5f9-4075-b201-dd1c208a22af"
      },
      "source": [
        "predictions2 = model2.predict(validation_generator,\n",
        "                              verbose=1)\n",
        "rounded_predictions2 = np.around(predictions2.copy()).astype(int)"
      ],
      "execution_count": null,
      "outputs": [
        {
          "output_type": "stream",
          "text": [
            "/usr/local/lib/python3.7/dist-packages/keras_preprocessing/image/image_data_generator.py:720: UserWarning: This ImageDataGenerator specifies `featurewise_center`, but it hasn't been fit on any training data. Fit it first by calling `.fit(numpy_data)`.\n",
            "  warnings.warn('This ImageDataGenerator specifies '\n",
            "/usr/local/lib/python3.7/dist-packages/keras_preprocessing/image/image_data_generator.py:728: UserWarning: This ImageDataGenerator specifies `featurewise_std_normalization`, but it hasn't been fit on any training data. Fit it first by calling `.fit(numpy_data)`.\n",
            "  warnings.warn('This ImageDataGenerator specifies '\n"
          ],
          "name": "stderr"
        },
        {
          "output_type": "stream",
          "text": [
            "16/16 [==============================] - 128s 8s/step\n"
          ],
          "name": "stdout"
        }
      ]
    },
    {
      "cell_type": "code",
      "metadata": {
        "colab": {
          "base_uri": "https://localhost:8080/"
        },
        "id": "DvD9lTW1R8rm",
        "outputId": "36faa9f6-6c11-4d8c-8334-66443c4dc8a5"
      },
      "source": [
        "predictions3 = model3.predict(validation_generator,\n",
        "                              verbose=1)\n",
        "rounded_predictions3 = np.around(predictions3.copy()).astype(int)"
      ],
      "execution_count": null,
      "outputs": [
        {
          "output_type": "stream",
          "text": [
            "/usr/local/lib/python3.7/dist-packages/keras_preprocessing/image/image_data_generator.py:720: UserWarning: This ImageDataGenerator specifies `featurewise_center`, but it hasn't been fit on any training data. Fit it first by calling `.fit(numpy_data)`.\n",
            "  warnings.warn('This ImageDataGenerator specifies '\n",
            "/usr/local/lib/python3.7/dist-packages/keras_preprocessing/image/image_data_generator.py:728: UserWarning: This ImageDataGenerator specifies `featurewise_std_normalization`, but it hasn't been fit on any training data. Fit it first by calling `.fit(numpy_data)`.\n",
            "  warnings.warn('This ImageDataGenerator specifies '\n"
          ],
          "name": "stderr"
        },
        {
          "output_type": "stream",
          "text": [
            "16/16 [==============================] - 158s 10s/step\n"
          ],
          "name": "stdout"
        }
      ]
    },
    {
      "cell_type": "code",
      "metadata": {
        "colab": {
          "base_uri": "https://localhost:8080/"
        },
        "id": "P42Bw-dUR93F",
        "outputId": "6afaee6e-1dd0-429e-d349-92219a15f7c3"
      },
      "source": [
        "predictions4 = model4.predict(validation_generator,\n",
        "                              verbose=1)\n",
        "rounded_predictions4 = np.around(predictions4.copy()).astype(int)"
      ],
      "execution_count": null,
      "outputs": [
        {
          "output_type": "stream",
          "text": [
            "/usr/local/lib/python3.7/dist-packages/keras_preprocessing/image/image_data_generator.py:720: UserWarning: This ImageDataGenerator specifies `featurewise_center`, but it hasn't been fit on any training data. Fit it first by calling `.fit(numpy_data)`.\n",
            "  warnings.warn('This ImageDataGenerator specifies '\n",
            "/usr/local/lib/python3.7/dist-packages/keras_preprocessing/image/image_data_generator.py:728: UserWarning: This ImageDataGenerator specifies `featurewise_std_normalization`, but it hasn't been fit on any training data. Fit it first by calling `.fit(numpy_data)`.\n",
            "  warnings.warn('This ImageDataGenerator specifies '\n"
          ],
          "name": "stderr"
        },
        {
          "output_type": "stream",
          "text": [
            "16/16 [==============================] - 108s 7s/step\n"
          ],
          "name": "stdout"
        }
      ]
    },
    {
      "cell_type": "code",
      "metadata": {
        "colab": {
          "base_uri": "https://localhost:8080/"
        },
        "id": "iQ3Y4sO4zyt6",
        "outputId": "f9c34a4e-62bb-4b5b-9cf6-9f6346b61431"
      },
      "source": [
        "predictions5 = model5.predict(validation_generator,\n",
        "                              verbose=1)\n",
        "rounded_predictions5 = np.around(predictions5.copy()).astype(int)"
      ],
      "execution_count": null,
      "outputs": [
        {
          "output_type": "stream",
          "text": [
            "/usr/local/lib/python3.7/dist-packages/keras_preprocessing/image/image_data_generator.py:720: UserWarning: This ImageDataGenerator specifies `featurewise_center`, but it hasn't been fit on any training data. Fit it first by calling `.fit(numpy_data)`.\n",
            "  warnings.warn('This ImageDataGenerator specifies '\n",
            "/usr/local/lib/python3.7/dist-packages/keras_preprocessing/image/image_data_generator.py:728: UserWarning: This ImageDataGenerator specifies `featurewise_std_normalization`, but it hasn't been fit on any training data. Fit it first by calling `.fit(numpy_data)`.\n",
            "  warnings.warn('This ImageDataGenerator specifies '\n"
          ],
          "name": "stderr"
        },
        {
          "output_type": "stream",
          "text": [
            "16/16 [==============================] - 71s 4s/step\n"
          ],
          "name": "stdout"
        }
      ]
    },
    {
      "cell_type": "code",
      "metadata": {
        "colab": {
          "base_uri": "https://localhost:8080/"
        },
        "id": "SFMDvRw440Mg",
        "outputId": "9fbb0209-ccdf-4624-b3a7-acfb83789f7f"
      },
      "source": [
        "predictions6 = model6.predict(validation_generator,\n",
        "                              verbose=1)\n",
        "rounded_predictions6 = np.around(predictions6.copy()).astype(int)"
      ],
      "execution_count": null,
      "outputs": [
        {
          "output_type": "stream",
          "text": [
            "/usr/local/lib/python3.7/dist-packages/keras_preprocessing/image/image_data_generator.py:720: UserWarning: This ImageDataGenerator specifies `featurewise_center`, but it hasn't been fit on any training data. Fit it first by calling `.fit(numpy_data)`.\n",
            "  warnings.warn('This ImageDataGenerator specifies '\n",
            "/usr/local/lib/python3.7/dist-packages/keras_preprocessing/image/image_data_generator.py:728: UserWarning: This ImageDataGenerator specifies `featurewise_std_normalization`, but it hasn't been fit on any training data. Fit it first by calling `.fit(numpy_data)`.\n",
            "  warnings.warn('This ImageDataGenerator specifies '\n"
          ],
          "name": "stderr"
        },
        {
          "output_type": "stream",
          "text": [
            "16/16 [==============================] - 183s 11s/step\n"
          ],
          "name": "stdout"
        }
      ]
    },
    {
      "cell_type": "code",
      "metadata": {
        "colab": {
          "base_uri": "https://localhost:8080/"
        },
        "id": "phWp3ymoblpi",
        "outputId": "613ba812-2b02-47f1-c73f-1598e4d1b412"
      },
      "source": [
        "predictions7 = model7.predict(validation_generator,\n",
        "                              verbose=1)\n",
        "rounded_predictions7 = np.around(predictions7.copy()).astype(int)"
      ],
      "execution_count": null,
      "outputs": [
        {
          "output_type": "stream",
          "text": [
            "/usr/local/lib/python3.7/dist-packages/keras_preprocessing/image/image_data_generator.py:720: UserWarning: This ImageDataGenerator specifies `featurewise_center`, but it hasn't been fit on any training data. Fit it first by calling `.fit(numpy_data)`.\n",
            "  warnings.warn('This ImageDataGenerator specifies '\n",
            "/usr/local/lib/python3.7/dist-packages/keras_preprocessing/image/image_data_generator.py:728: UserWarning: This ImageDataGenerator specifies `featurewise_std_normalization`, but it hasn't been fit on any training data. Fit it first by calling `.fit(numpy_data)`.\n",
            "  warnings.warn('This ImageDataGenerator specifies '\n"
          ],
          "name": "stderr"
        },
        {
          "output_type": "stream",
          "text": [
            "16/16 [==============================] - 444s 27s/step\n"
          ],
          "name": "stdout"
        }
      ]
    },
    {
      "cell_type": "code",
      "metadata": {
        "id": "NFK1O0iA0s-q"
      },
      "source": [
        "def plot_roc_curve(data_generator, e_predictions, predictions1, predictions2, predictions3, predictions4, predictions5, predictions6, predictions7, ax):\n",
        "    ns_predictions = [0 for i in range(data_generator.n)]\n",
        "\n",
        "    ns_auc = roc_auc_score(y_true=data_generator.labels, y_score=ns_predictions)\n",
        "    e_auc = roc_auc_score(y_true=data_generator.labels, y_score=e_predictions)\n",
        "    auc1 = roc_auc_score(y_true=data_generator.labels, y_score=predictions1)\n",
        "    auc2 = roc_auc_score(y_true=data_generator.labels, y_score=predictions2)\n",
        "    auc3 = roc_auc_score(y_true=data_generator.labels, y_score=predictions3)\n",
        "    auc4 = roc_auc_score(y_true=data_generator.labels, y_score=predictions4)\n",
        "    auc5 = roc_auc_score(y_true=data_generator.labels, y_score=predictions5)\n",
        "    auc6 = roc_auc_score(y_true=data_generator.labels, y_score=predictions6)\n",
        "    auc7 = roc_auc_score(y_true=data_generator.labels, y_score=predictions7)\n",
        "    \n",
        "\n",
        "    ns_fpr, ns_tpr, ns_thresholds = roc_curve(y_true=validation_generator.labels, y_score=ns_predictions)\n",
        "    e_fpr, e_tpr, e_thresholds = roc_curve(y_true=validation_generator.labels, y_score=e_predictions)\n",
        "    fpr1, tpr1, thresholds1 = roc_curve(y_true=validation_generator.labels, y_score=predictions1)\n",
        "    fpr2, tpr2, thresholds2 = roc_curve(y_true=validation_generator.labels, y_score=predictions2)\n",
        "    fpr3, tpr3, thresholds3 = roc_curve(y_true=validation_generator.labels, y_score=predictions3)\n",
        "    fpr4, tpr4, thresholds4 = roc_curve(y_true=validation_generator.labels, y_score=predictions4)\n",
        "    fpr5, tpr5, thresholds5 = roc_curve(y_true=validation_generator.labels, y_score=predictions5)\n",
        "    fpr6, tpr6, thresholds6 = roc_curve(y_true=validation_generator.labels, y_score=predictions6)\n",
        "    fpr7, tpr7, thresholds7 = roc_curve(y_true=validation_generator.labels, y_score=predictions7)\n",
        "\n",
        "    ax.plot(ns_fpr, ns_tpr, linestyle='--', label='No Skill (AUC = %0.4f)' % ns_auc)\n",
        "    ax.plot(e_fpr, e_tpr, marker='.', label='Ensemble Model (AUC = %0.4f)' % e_auc)\n",
        "    ax.plot(fpr1, tpr1, marker='.', label=member1.name + ' (AUC = %0.4f)' % auc1)\n",
        "    ax.plot(fpr2, tpr2, marker='.', label=member2.name + ' (AUC = %0.4f)' % auc2)\n",
        "    ax.plot(fpr3, tpr3, marker='.', label=member3.name + ' (AUC = %0.4f)' % auc3)\n",
        "    ax.plot(fpr4, tpr4, marker='.', label=member4.name + ' (AUC = %0.4f)' % auc4)    \n",
        "    ax.plot(fpr5, tpr5, marker='.', label=member5.name + ' (AUC = %0.4f)' % auc5)\n",
        "    ax.plot(fpr6, tpr6, marker='.', label=member6.name + ' (AUC = %0.4f)' % auc6)\n",
        "    ax.plot(fpr7, tpr7, marker='.', label=member7.name + ' (AUC = %0.4f)' % auc7)\n",
        "\n",
        "    ax.set_title('Receiver Operating Characteristic Curve', fontdict = {'family': 'DejaVu Sans',\n",
        "                                                                        'color' : 'black',\n",
        "                                                                        'weight': 'heavy',\n",
        "                                                                        'size'  :  12})\n",
        "    ax.set_xlabel('False Positive Rate')\n",
        "    ax.set_ylabel('True Positive Rate')\n",
        "    # so that legend doesn't overlap w/ NC curve\n",
        "    ax.legend(loc=4, prop={'size': 9.5})\n",
        "    # ax.legend()"
      ],
      "execution_count": null,
      "outputs": []
    },
    {
      "cell_type": "code",
      "metadata": {
        "id": "kdis1TwA2JEI"
      },
      "source": [
        "def plot_precision_recall(data_generator, e_predictions, predictions1, predictions2, predictions3, predictions4, predictions5, predictions6, predictions7, ax):\n",
        "    e_precision, e_recall, e_thresholds = precision_recall_curve(y_true=data_generator.labels, probas_pred=e_predictions)\n",
        "    e_average_precision = average_precision_score(y_true=data_generator.labels, y_score=e_predictions)\n",
        "\n",
        "    precision1, recall1, thresholds1 = precision_recall_curve(y_true=data_generator.labels, probas_pred=predictions1)\n",
        "    average_precision1 = average_precision_score(y_true=data_generator.labels, y_score=predictions1)\n",
        "\n",
        "    precision2, recall2, thresholds2 = precision_recall_curve(y_true=data_generator.labels, probas_pred=predictions2)\n",
        "    average_precision2 = average_precision_score(y_true=data_generator.labels, y_score=predictions2)\n",
        "\n",
        "    precision3, recall3, thresholds3 = precision_recall_curve(y_true=data_generator.labels, probas_pred=predictions3)\n",
        "    average_precision3 = average_precision_score(y_true=data_generator.labels, y_score=predictions3)\n",
        "\n",
        "    precision4, recall4, thresholds4 = precision_recall_curve(y_true=data_generator.labels, probas_pred=predictions4)\n",
        "    average_precision4 = average_precision_score(y_true=data_generator.labels, y_score=predictions4)\n",
        "\n",
        "    precision5, recall5, thresholds5 = precision_recall_curve(y_true=data_generator.labels, probas_pred=predictions5)\n",
        "    average_precision5 = average_precision_score(y_true=data_generator.labels, y_score=predictions5)\n",
        "\n",
        "    precision6, recall6, thresholds6 = precision_recall_curve(y_true=data_generator.labels, probas_pred=predictions6)\n",
        "    average_precision6 = average_precision_score(y_true=data_generator.labels, y_score=predictions6)\n",
        "\n",
        "    precision7, recall7, thresholds7 = precision_recall_curve(y_true=data_generator.labels, probas_pred=predictions7)\n",
        "    average_precision7 = average_precision_score(y_true=data_generator.labels, y_score=predictions7)\n",
        "\n",
        "    e_pr_display = PrecisionRecallDisplay(precision=e_precision, recall=e_recall, average_precision=e_average_precision, estimator_name=None)\n",
        "    pr_display1 = PrecisionRecallDisplay(precision=precision1, recall=recall1, average_precision=average_precision1, estimator_name=None)\n",
        "    pr_display2 = PrecisionRecallDisplay(precision=precision2, recall=recall2, average_precision=average_precision2, estimator_name=None)\n",
        "    pr_display3 = PrecisionRecallDisplay(precision=precision3, recall=recall3, average_precision=average_precision3, estimator_name=None)\n",
        "    pr_display4 = PrecisionRecallDisplay(precision=precision4, recall=recall4, average_precision=average_precision4, estimator_name=None)\n",
        "    pr_display5 = PrecisionRecallDisplay(precision=precision5, recall=recall5, average_precision=average_precision5, estimator_name=None)\n",
        "    pr_display6 = PrecisionRecallDisplay(precision=precision6, recall=recall6, average_precision=average_precision6, estimator_name=None)\n",
        "    pr_display7 = PrecisionRecallDisplay(precision=precision7, recall=recall7, average_precision=average_precision7, estimator_name=None)\n",
        "    \n",
        "    e_pr_display.plot(ax=ax, name='Ensemble Model')\n",
        "    pr_display1.plot(ax=ax, name=member1.name)\n",
        "    pr_display2.plot(ax=ax, name=member2.name)\n",
        "    pr_display3.plot(ax=ax, name=member3.name)\n",
        "    pr_display4.plot(ax=ax, name=member4.name)\n",
        "    pr_display5.plot(ax=ax, name=member5.name)\n",
        "    pr_display6.plot(ax=ax, name=member6.name)\n",
        "    pr_display7.plot(ax=ax, name=member7.name)\n",
        "\n",
        "    L = plt.legend()\n",
        "    L.get_texts()[0].set_text('Ensemble Model' + ' (AP = %0.4f)' % e_average_precision)\n",
        "    L.get_texts()[1].set_text(member1.name + ' (AP = %0.4f)' % average_precision1)\n",
        "    L.get_texts()[2].set_text(member2.name + ' (AP = %0.4f)' % average_precision2)\n",
        "    L.get_texts()[3].set_text(member3.name + ' (AP = %0.4f)' % average_precision3)\n",
        "    L.get_texts()[4].set_text(member4.name + ' (AP = %0.4f)' % average_precision4)\n",
        "    L.get_texts()[5].set_text(member5.name + ' (AP = %0.4f)' % average_precision5)\n",
        "    L.get_texts()[6].set_text(member6.name + ' (AP = %0.4f)' % average_precision6)\n",
        "    L.get_texts()[7].set_text(member7.name + ' (AP = %0.4f)' % average_precision7)\n",
        "    \n",
        "    ax.set_title('Precision Recall Curve', fontdict = {'family': 'DejaVu Sans',\n",
        "                                                       'color' : 'black',\n",
        "                                                       'weight': 'heavy',\n",
        "                                                       'size'  :  12})"
      ],
      "execution_count": null,
      "outputs": []
    },
    {
      "cell_type": "code",
      "metadata": {
        "id": "NyDp6nby24k9"
      },
      "source": [
        "# not much a difference from ^, but might just look better and maybe easier to work with\n",
        "# note that it has a weird font and style when plotting graphs, RUN THIS LAST..\n",
        "def plot_heatmap_confusion_matrix(data_generator, predictions):\n",
        "    cf = confusion_matrix(y_true=data_generator.labels, y_pred=predictions)\n",
        "    \n",
        "    df_cm = pd.DataFrame(cf, range(len(CLASSES)), range(len(CLASSES)))\n",
        "    plt.figure(figsize=(6, 4))\n",
        "    sns.set(font_scale=1.0)\n",
        "    sns.heatmap(df_cm, annot=True, annot_kws={\"size\": 12}, xticklabels=CLASSES, yticklabels=CLASSES, fmt='g')\n",
        "    # sns.heatmap(df_cm, annot=True, cmap='Blues', annot_kws={\"size\": 16}, xticklabels=CLASSES, yticklabels=CLASSES, fmt='g')\n",
        "\n",
        "    plt.xlabel('Predicted Labels', labelpad=20)\n",
        "    plt.ylabel('Ground Truth Labels', labelpad=20)\n",
        "    plt.title('Confusion Matrix', fontdict = {'family': 'DejaVu Sans',\n",
        "                                              'color' : 'black',\n",
        "                                              'weight': 'heavy',\n",
        "                                              'size'  :  12})\n",
        "    plt.show()"
      ],
      "execution_count": null,
      "outputs": []
    },
    {
      "cell_type": "code",
      "metadata": {
        "colab": {
          "base_uri": "https://localhost:8080/",
          "height": 710
        },
        "id": "LGrmI1cG2HMv",
        "outputId": "deb6066a-5f82-44df-8659-2d9cf322cd4e"
      },
      "source": [
        "fig, (ax1, ax2) = plt.subplots(nrows=1, ncols=2, figsize=(14, 6))\n",
        "\n",
        "plot_roc_curve(validation_generator, e_predictions4, predictions1, predictions2, predictions3, predictions4, predictions5, predictions6, predictions7, ax1)\n",
        "plot_precision_recall(validation_generator, e_predictions4, predictions1, predictions2, predictions3, predictions4, predictions5, predictions6, predictions7, ax2)\n",
        "plot_heatmap_confusion_matrix(validation_generator, e_rounded_predictions4)"
      ],
      "execution_count": null,
      "outputs": [
        {
          "output_type": "display_data",
          "data": {
            "image/png": "[encoded data removed]",
            "text/plain": [
              "<Figure size 1008x432 with 2 Axes>"
            ]
          },
          "metadata": {
            "tags": []
          }
        },
        {
          "output_type": "display_data",
          "data": {
            "image/png": "[encoded data removed]",
            "text/plain": [
              "<Figure size 432x288 with 2 Axes>"
            ]
          },
          "metadata": {
            "tags": []
          }
        }
      ]
    },
    {
      "cell_type": "code",
      "metadata": {
        "id": "Kn6ZhrKupxe6",
        "colab": {
          "base_uri": "https://localhost:8080/"
        },
        "outputId": "67ae7d76-193b-464f-ddde-36e4c3085c97"
      },
      "source": [
        "ensemble_model = StackEnsemble.load(r'/content/drive/MyDrive/Colab Notebooks/Diabetic Retinopathy/ensemble_models/4_Ensemble_Model_v4')\n",
        "e_predictions = ensemble_model._predict_val()\n",
        "e_rounded_predictions = np.around(e_predictions.copy()).astype(int)"
      ],
      "execution_count": null,
      "outputs": [
        {
          "output_type": "stream",
          "text": [
            "Loaded EfficientNet-B2\n",
            "Loaded ResNet-50V2\n",
            "Loaded MobileNetV2\n",
            "Loaded DenseNet-201\n",
            "Calling predict\n"
          ],
          "name": "stdout"
        }
      ]
    },
    {
      "cell_type": "code",
      "metadata": {
        "colab": {
          "base_uri": "https://localhost:8080/"
        },
        "id": "HY3JL1m1Ugzu",
        "outputId": "cc386283-7b59-4a5f-ff47-638e740f8885"
      },
      "source": [
        "print(classification_report(y_true=validation_generator.labels, y_pred=e_rounded_predictions))"
      ],
      "execution_count": null,
      "outputs": [
        {
          "output_type": "stream",
          "text": [
            "              precision    recall  f1-score   support\n",
            "\n",
            "           0       0.97      0.98      0.97       236\n",
            "           1       0.99      0.97      0.98       275\n",
            "\n",
            "    accuracy                           0.98       511\n",
            "   macro avg       0.98      0.98      0.98       511\n",
            "weighted avg       0.98      0.98      0.98       511\n",
            "\n"
          ],
          "name": "stdout"
        }
      ]
    }
  ]
}